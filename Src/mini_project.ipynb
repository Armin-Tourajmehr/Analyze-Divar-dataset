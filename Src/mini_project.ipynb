{
 "cells": [
  {
   "cell_type": "markdown",
   "metadata": {},
   "source": [
    "# Import library"
   ]
  },
  {
   "cell_type": "code",
   "execution_count": 2,
   "metadata": {},
   "outputs": [
    {
     "name": "stderr",
     "output_type": "stream",
     "text": [
      "C:\\Users\\armin\\AppData\\Local\\Temp\\ipykernel_2280\\555797462.py:1: DeprecationWarning: \n",
      "Pyarrow will become a required dependency of pandas in the next major release of pandas (pandas 3.0),\n",
      "(to allow more performant data types, such as the Arrow string type, and better interoperability with other libraries)\n",
      "but was not found to be installed on your system.\n",
      "If this would cause problems for you,\n",
      "please provide us feedback at https://github.com/pandas-dev/pandas/issues/54466\n",
      "        \n",
      "  import pandas as pd\n"
     ]
    }
   ],
   "source": [
    "import pandas as pd\n",
    "import numpy as np\n",
    "import matplotlib.pyplot as plt\n",
    "import seaborn as sns"
   ]
  },
  {
   "cell_type": "code",
   "execution_count": 106,
   "metadata": {},
   "outputs": [
    {
     "name": "stdout",
     "output_type": "stream",
     "text": [
      "Requirement already satisfied: bokeh in c:\\users\\armin\\appdata\\local\\programs\\python\\python311\\lib\\site-packages (3.5.2)\n",
      "Requirement already satisfied: Jinja2>=2.9 in c:\\users\\armin\\appdata\\local\\programs\\python\\python311\\lib\\site-packages (from bokeh) (3.1.2)\n",
      "Requirement already satisfied: contourpy>=1.2 in c:\\users\\armin\\appdata\\local\\programs\\python\\python311\\lib\\site-packages (from bokeh) (1.2.0)\n",
      "Requirement already satisfied: numpy>=1.16 in c:\\users\\armin\\appdata\\local\\programs\\python\\python311\\lib\\site-packages (from bokeh) (1.25.1)\n",
      "Requirement already satisfied: packaging>=16.8 in c:\\users\\armin\\appdata\\local\\programs\\python\\python311\\lib\\site-packages (from bokeh) (22.0)\n",
      "Requirement already satisfied: pandas>=1.2 in c:\\users\\armin\\appdata\\local\\programs\\python\\python311\\lib\\site-packages (from bokeh) (2.2.0)\n",
      "Requirement already satisfied: pillow>=7.1.0 in c:\\users\\armin\\appdata\\local\\programs\\python\\python311\\lib\\site-packages (from bokeh) (10.2.0)\n",
      "Requirement already satisfied: PyYAML>=3.10 in c:\\users\\armin\\appdata\\local\\programs\\python\\python311\\lib\\site-packages (from bokeh) (6.0)\n",
      "Requirement already satisfied: tornado>=6.2 in c:\\users\\armin\\appdata\\local\\programs\\python\\python311\\lib\\site-packages (from bokeh) (6.2)\n",
      "Requirement already satisfied: xyzservices>=2021.09.1 in c:\\users\\armin\\appdata\\local\\programs\\python\\python311\\lib\\site-packages (from bokeh) (2024.9.0)\n",
      "Requirement already satisfied: MarkupSafe>=2.0 in c:\\users\\armin\\appdata\\local\\programs\\python\\python311\\lib\\site-packages (from Jinja2>=2.9->bokeh) (2.1.3)\n",
      "Requirement already satisfied: python-dateutil>=2.8.2 in c:\\users\\armin\\appdata\\local\\programs\\python\\python311\\lib\\site-packages (from pandas>=1.2->bokeh) (2.8.2)\n",
      "Requirement already satisfied: pytz>=2020.1 in c:\\users\\armin\\appdata\\local\\programs\\python\\python311\\lib\\site-packages (from pandas>=1.2->bokeh) (2023.3.post1)\n",
      "Requirement already satisfied: tzdata>=2022.7 in c:\\users\\armin\\appdata\\local\\programs\\python\\python311\\lib\\site-packages (from pandas>=1.2->bokeh) (2023.4)\n",
      "Requirement already satisfied: six>=1.5 in c:\\users\\armin\\appdata\\local\\programs\\python\\python311\\lib\\site-packages (from python-dateutil>=2.8.2->pandas>=1.2->bokeh) (1.16.0)\n"
     ]
    },
    {
     "name": "stderr",
     "output_type": "stream",
     "text": [
      "WARNING: There was an error checking the latest version of pip.\n"
     ]
    }
   ],
   "source": [
    "! python -m pip install bokeh"
   ]
  },
  {
   "cell_type": "code",
   "execution_count": 107,
   "metadata": {},
   "outputs": [
    {
     "name": "stdout",
     "output_type": "stream",
     "text": [
      "Requirement already satisfied: plotly in c:\\users\\armin\\appdata\\local\\programs\\python\\python311\\lib\\site-packages (5.24.1)\n",
      "Requirement already satisfied: tenacity>=6.2.0 in c:\\users\\armin\\appdata\\local\\programs\\python\\python311\\lib\\site-packages (from plotly) (9.0.0)\n",
      "Requirement already satisfied: packaging in c:\\users\\armin\\appdata\\local\\programs\\python\\python311\\lib\\site-packages (from plotly) (22.0)\n"
     ]
    },
    {
     "name": "stderr",
     "output_type": "stream",
     "text": [
      "WARNING: There was an error checking the latest version of pip.\n"
     ]
    }
   ],
   "source": [
    "! pip install plotly"
   ]
  },
  {
   "cell_type": "code",
   "execution_count": 3,
   "metadata": {},
   "outputs": [],
   "source": [
    "import bokeh\n",
    "import plotly"
   ]
  },
  {
   "cell_type": "markdown",
   "metadata": {},
   "source": [
    "# Read datasets"
   ]
  },
  {
   "cell_type": "code",
   "execution_count": 112,
   "metadata": {},
   "outputs": [],
   "source": [
    "# Read json file \n",
    "js = pd.read_json('2021.json')"
   ]
  },
  {
   "cell_type": "code",
   "execution_count": 3,
   "metadata": {},
   "outputs": [],
   "source": [
    "# Convert to CSV\n",
    "js.to_csv('2021.csv')"
   ]
  },
  {
   "cell_type": "code",
   "execution_count": 4,
   "metadata": {},
   "outputs": [],
   "source": [
    "divar_2021 = pd.read_csv('2021.csv')"
   ]
  },
  {
   "cell_type": "code",
   "execution_count": 5,
   "metadata": {},
   "outputs": [
    {
     "name": "stderr",
     "output_type": "stream",
     "text": [
      "C:\\Users\\armin\\AppData\\Local\\Temp\\ipykernel_2280\\3312842077.py:1: DtypeWarning: Columns (0,1,2,3,4,5) have mixed types. Specify dtype option on import or set low_memory=False.\n",
      "  divar_2023 = pd.read_csv('2023.csv')\n"
     ]
    }
   ],
   "source": [
    "divar_2023 = pd.read_csv('2023.csv')"
   ]
  },
  {
   "cell_type": "markdown",
   "metadata": {},
   "source": [
    "# EDA"
   ]
  },
  {
   "cell_type": "code",
   "execution_count": 5,
   "metadata": {},
   "outputs": [
    {
     "data": {
      "text/html": [
       "<div>\n",
       "<style scoped>\n",
       "    .dataframe tbody tr th:only-of-type {\n",
       "        vertical-align: middle;\n",
       "    }\n",
       "\n",
       "    .dataframe tbody tr th {\n",
       "        vertical-align: top;\n",
       "    }\n",
       "\n",
       "    .dataframe thead th {\n",
       "        text-align: right;\n",
       "    }\n",
       "</style>\n",
       "<table border=\"1\" class=\"dataframe\">\n",
       "  <thead>\n",
       "    <tr style=\"text-align: right;\">\n",
       "      <th></th>\n",
       "      <th>Unnamed: 0</th>\n",
       "      <th>district</th>\n",
       "      <th>token</th>\n",
       "      <th>sub_category</th>\n",
       "      <th>category</th>\n",
       "      <th>business_type</th>\n",
       "      <th>price</th>\n",
       "      <th>credit</th>\n",
       "      <th>rent</th>\n",
       "      <th>title</th>\n",
       "      <th>location</th>\n",
       "      <th>area</th>\n",
       "      <th>year</th>\n",
       "      <th>room</th>\n",
       "      <th>floor</th>\n",
       "      <th>elevator</th>\n",
       "      <th>parking</th>\n",
       "      <th>storage</th>\n",
       "      <th>balcony</th>\n",
       "      <th>agency</th>\n",
       "    </tr>\n",
       "  </thead>\n",
       "  <tbody>\n",
       "    <tr>\n",
       "      <th>0</th>\n",
       "      <td>0</td>\n",
       "      <td>پرند</td>\n",
       "      <td>AYlgrZxh</td>\n",
       "      <td>apartment-sell</td>\n",
       "      <td>residential-sell</td>\n",
       "      <td>personal</td>\n",
       "      <td>2.400000e+08</td>\n",
       "      <td>NaN</td>\n",
       "      <td>NaN</td>\n",
       "      <td>هسا فول واریزی</td>\n",
       "      <td>{}</td>\n",
       "      <td>84.0</td>\n",
       "      <td>1399.0</td>\n",
       "      <td>2.0</td>\n",
       "      <td>3.0</td>\n",
       "      <td>False</td>\n",
       "      <td>True</td>\n",
       "      <td>True</td>\n",
       "      <td>NaN</td>\n",
       "      <td>NaN</td>\n",
       "    </tr>\n",
       "    <tr>\n",
       "      <th>1</th>\n",
       "      <td>1</td>\n",
       "      <td>ستارخان</td>\n",
       "      <td>AYlUb95t</td>\n",
       "      <td>shop-rent</td>\n",
       "      <td>commercial-rent</td>\n",
       "      <td>personal</td>\n",
       "      <td>NaN</td>\n",
       "      <td>NaN</td>\n",
       "      <td>NaN</td>\n",
       "      <td>15 متر مغازه(زیر همکف) پاساژ طلا و جواهر الماس...</td>\n",
       "      <td>{}</td>\n",
       "      <td>15.0</td>\n",
       "      <td>1390.0</td>\n",
       "      <td>0.0</td>\n",
       "      <td>NaN</td>\n",
       "      <td>NaN</td>\n",
       "      <td>NaN</td>\n",
       "      <td>NaN</td>\n",
       "      <td>NaN</td>\n",
       "      <td>NaN</td>\n",
       "    </tr>\n",
       "    <tr>\n",
       "      <th>2</th>\n",
       "      <td>2</td>\n",
       "      <td>الهیه</td>\n",
       "      <td>AYXM8Mkk</td>\n",
       "      <td>office-rent</td>\n",
       "      <td>commercial-rent</td>\n",
       "      <td>personal</td>\n",
       "      <td>NaN</td>\n",
       "      <td>NaN</td>\n",
       "      <td>NaN</td>\n",
       "      <td>فرشته اجاره۶۶متر سنداداری</td>\n",
       "      <td>{}</td>\n",
       "      <td>66.0</td>\n",
       "      <td>1397.0</td>\n",
       "      <td>0.0</td>\n",
       "      <td>6.0</td>\n",
       "      <td>True</td>\n",
       "      <td>True</td>\n",
       "      <td>False</td>\n",
       "      <td>NaN</td>\n",
       "      <td>NaN</td>\n",
       "    </tr>\n",
       "    <tr>\n",
       "      <th>3</th>\n",
       "      <td>3</td>\n",
       "      <td>فیروزکوه</td>\n",
       "      <td>AYO0uYGH</td>\n",
       "      <td>house-villa-sell</td>\n",
       "      <td>residential-sell</td>\n",
       "      <td>personal</td>\n",
       "      <td>4.000000e+09</td>\n",
       "      <td>NaN</td>\n",
       "      <td>NaN</td>\n",
       "      <td>ویلا باغ زریندشت فیروزکوه</td>\n",
       "      <td>{}</td>\n",
       "      <td>1300.0</td>\n",
       "      <td>1395.0</td>\n",
       "      <td>3.0</td>\n",
       "      <td>NaN</td>\n",
       "      <td>NaN</td>\n",
       "      <td>True</td>\n",
       "      <td>True</td>\n",
       "      <td>1.0</td>\n",
       "      <td>NaN</td>\n",
       "    </tr>\n",
       "    <tr>\n",
       "      <th>4</th>\n",
       "      <td>4</td>\n",
       "      <td>ورامین</td>\n",
       "      <td>AYlcbu9U</td>\n",
       "      <td>suite-apartment</td>\n",
       "      <td>temporary-rent</td>\n",
       "      <td>personal</td>\n",
       "      <td>NaN</td>\n",
       "      <td>NaN</td>\n",
       "      <td>NaN</td>\n",
       "      <td>اجاره سوییت</td>\n",
       "      <td>{}</td>\n",
       "      <td>2000.0</td>\n",
       "      <td>NaN</td>\n",
       "      <td>4.0</td>\n",
       "      <td>NaN</td>\n",
       "      <td>NaN</td>\n",
       "      <td>NaN</td>\n",
       "      <td>NaN</td>\n",
       "      <td>NaN</td>\n",
       "      <td>NaN</td>\n",
       "    </tr>\n",
       "  </tbody>\n",
       "</table>\n",
       "</div>"
      ],
      "text/plain": [
       "   Unnamed: 0  district     token      sub_category          category  \\\n",
       "0           0      پرند  AYlgrZxh    apartment-sell  residential-sell   \n",
       "1           1   ستارخان  AYlUb95t         shop-rent   commercial-rent   \n",
       "2           2     الهیه  AYXM8Mkk       office-rent   commercial-rent   \n",
       "3           3  فیروزکوه  AYO0uYGH  house-villa-sell  residential-sell   \n",
       "4           4    ورامین  AYlcbu9U   suite-apartment    temporary-rent   \n",
       "\n",
       "  business_type         price  credit  rent  \\\n",
       "0      personal  2.400000e+08     NaN   NaN   \n",
       "1      personal           NaN     NaN   NaN   \n",
       "2      personal           NaN     NaN   NaN   \n",
       "3      personal  4.000000e+09     NaN   NaN   \n",
       "4      personal           NaN     NaN   NaN   \n",
       "\n",
       "                                               title location    area    year  \\\n",
       "0                                     هسا فول واریزی       {}    84.0  1399.0   \n",
       "1  15 متر مغازه(زیر همکف) پاساژ طلا و جواهر الماس...       {}    15.0  1390.0   \n",
       "2                          فرشته اجاره۶۶متر سنداداری       {}    66.0  1397.0   \n",
       "3                          ویلا باغ زریندشت فیروزکوه       {}  1300.0  1395.0   \n",
       "4                                        اجاره سوییت       {}  2000.0     NaN   \n",
       "\n",
       "   room  floor elevator parking storage  balcony agency  \n",
       "0   2.0    3.0    False    True    True      NaN    NaN  \n",
       "1   0.0    NaN      NaN     NaN     NaN      NaN    NaN  \n",
       "2   0.0    6.0     True    True   False      NaN    NaN  \n",
       "3   3.0    NaN      NaN    True    True      1.0    NaN  \n",
       "4   4.0    NaN      NaN     NaN     NaN      NaN    NaN  "
      ]
     },
     "execution_count": 5,
     "metadata": {},
     "output_type": "execute_result"
    }
   ],
   "source": [
    "divar_2021.head()"
   ]
  },
  {
   "cell_type": "markdown",
   "metadata": {},
   "source": [
    "As we can see, we need to change format of \"Price\" and \" Address\""
   ]
  },
  {
   "cell_type": "code",
   "execution_count": 6,
   "metadata": {},
   "outputs": [
    {
     "data": {
      "text/html": [
       "<div>\n",
       "<style scoped>\n",
       "    .dataframe tbody tr th:only-of-type {\n",
       "        vertical-align: middle;\n",
       "    }\n",
       "\n",
       "    .dataframe tbody tr th {\n",
       "        vertical-align: top;\n",
       "    }\n",
       "\n",
       "    .dataframe thead th {\n",
       "        text-align: right;\n",
       "    }\n",
       "</style>\n",
       "<table border=\"1\" class=\"dataframe\">\n",
       "  <thead>\n",
       "    <tr style=\"text-align: right;\">\n",
       "      <th></th>\n",
       "      <th>Area</th>\n",
       "      <th>Construction</th>\n",
       "      <th>Room</th>\n",
       "      <th>Warehouse</th>\n",
       "      <th>Parking</th>\n",
       "      <th>Elevator</th>\n",
       "      <th>Address</th>\n",
       "      <th>Price</th>\n",
       "    </tr>\n",
       "  </thead>\n",
       "  <tbody>\n",
       "    <tr>\n",
       "      <th>0</th>\n",
       "      <td>153</td>\n",
       "      <td>1393</td>\n",
       "      <td>3</td>\n",
       "      <td>True</td>\n",
       "      <td>True</td>\n",
       "      <td>True</td>\n",
       "      <td>۱ ساعت پیش در تهران، درکه</td>\n",
       "      <td>۱۸٬۳۶۰٬۰۰۰٬۰۰۰ تومان</td>\n",
       "    </tr>\n",
       "    <tr>\n",
       "      <th>1</th>\n",
       "      <td>418</td>\n",
       "      <td>1382</td>\n",
       "      <td>4</td>\n",
       "      <td>True</td>\n",
       "      <td>True</td>\n",
       "      <td>True</td>\n",
       "      <td>۱ ساعت پیش در تهران، زعفرانیه</td>\n",
       "      <td>۱۳۰٬۰۰۰٬۰۰۰٬۰۰۰ تومان</td>\n",
       "    </tr>\n",
       "    <tr>\n",
       "      <th>2</th>\n",
       "      <td>57</td>\n",
       "      <td>1385</td>\n",
       "      <td>2</td>\n",
       "      <td>False</td>\n",
       "      <td>False</td>\n",
       "      <td>True</td>\n",
       "      <td>۱ ساعت پیش در تهران، جابری</td>\n",
       "      <td>۲٬۶۰۰٬۰۰۰٬۰۰۰ تومان</td>\n",
       "    </tr>\n",
       "    <tr>\n",
       "      <th>3</th>\n",
       "      <td>193</td>\n",
       "      <td>1371</td>\n",
       "      <td>3</td>\n",
       "      <td>False</td>\n",
       "      <td>False</td>\n",
       "      <td>True</td>\n",
       "      <td>۱ ساعت پیش در تهران، فرمانیه</td>\n",
       "      <td>۲۳٬۰۰۰٬۰۰۰٬۰۰۰ تومان</td>\n",
       "    </tr>\n",
       "    <tr>\n",
       "      <th>4</th>\n",
       "      <td>62</td>\n",
       "      <td>1401</td>\n",
       "      <td>1</td>\n",
       "      <td>True</td>\n",
       "      <td>True</td>\n",
       "      <td>True</td>\n",
       "      <td>۱ ساعت پیش در تهران، دهکده المپیک، بزرگراه همت...</td>\n",
       "      <td>۱٬۴۱۰٬۰۰۰٬۰۰۰ تومان</td>\n",
       "    </tr>\n",
       "  </tbody>\n",
       "</table>\n",
       "</div>"
      ],
      "text/plain": [
       "  Area Construction Room Warehouse Parking Elevator  \\\n",
       "0  153         1393    3      True    True     True   \n",
       "1  418         1382    4      True    True     True   \n",
       "2   57         1385    2     False   False     True   \n",
       "3  193         1371    3     False   False     True   \n",
       "4   62         1401    1      True    True     True   \n",
       "\n",
       "                                             Address                  Price  \n",
       "0                          ۱ ساعت پیش در تهران، درکه   ۱۸٬۳۶۰٬۰۰۰٬۰۰۰ تومان  \n",
       "1                      ۱ ساعت پیش در تهران، زعفرانیه  ۱۳۰٬۰۰۰٬۰۰۰٬۰۰۰ تومان  \n",
       "2                         ۱ ساعت پیش در تهران، جابری    ۲٬۶۰۰٬۰۰۰٬۰۰۰ تومان  \n",
       "3                       ۱ ساعت پیش در تهران، فرمانیه   ۲۳٬۰۰۰٬۰۰۰٬۰۰۰ تومان  \n",
       "4  ۱ ساعت پیش در تهران، دهکده المپیک، بزرگراه همت...    ۱٬۴۱۰٬۰۰۰٬۰۰۰ تومان  "
      ]
     },
     "execution_count": 6,
     "metadata": {},
     "output_type": "execute_result"
    }
   ],
   "source": [
    "divar_2023.head()"
   ]
  },
  {
   "cell_type": "code",
   "execution_count": 8,
   "metadata": {},
   "outputs": [
    {
     "data": {
      "text/plain": [
       "0         ۱۸٬۳۶۰٬۰۰۰٬۰۰۰ تومان\n",
       "1        ۱۳۰٬۰۰۰٬۰۰۰٬۰۰۰ تومان\n",
       "2          ۲٬۶۰۰٬۰۰۰٬۰۰۰ تومان\n",
       "3         ۲۳٬۰۰۰٬۰۰۰٬۰۰۰ تومان\n",
       "4          ۱٬۴۱۰٬۰۰۰٬۰۰۰ تومان\n",
       "                 ...          \n",
       "94031     ۱۸٬۰۰۰٬۰۰۰٬۰۰۰ تومان\n",
       "94032     ۱۳٬۸۰۰٬۰۰۰٬۰۰۰ تومان\n",
       "94033      ۹٬۸۶۰٬۰۰۰٬۰۰۰ تومان\n",
       "94034      ۶٬۴۳۰٬۰۰۰٬۰۰۰ تومان\n",
       "94035      ۳٬۱۰۰٬۰۰۰٬۰۰۰ تومان\n",
       "Name: Price, Length: 94036, dtype: object"
      ]
     },
     "execution_count": 8,
     "metadata": {},
     "output_type": "execute_result"
    }
   ],
   "source": [
    "divar_2023.Price"
   ]
  },
  {
   "cell_type": "code",
   "execution_count": 6,
   "metadata": {},
   "outputs": [],
   "source": [
    "# Remove تومان \n",
    "divar_2023['foramting_change'] = divar_2023['Price'].apply(lambda x :x.split(' ')[0])"
   ]
  },
  {
   "cell_type": "code",
   "execution_count": 7,
   "metadata": {},
   "outputs": [],
   "source": [
    "# Remove \",\"  \n",
    "divar_2023['foramting_change'] = divar_2023['foramting_change'].apply(lambda x:x.replace('٬',''))"
   ]
  },
  {
   "cell_type": "code",
   "execution_count": 8,
   "metadata": {},
   "outputs": [],
   "source": [
    "# Find توافقی cases\n",
    "filter_divar_2023 = divar_2023[divar_2023['foramting_change'] == 'توافقی']"
   ]
  },
  {
   "cell_type": "code",
   "execution_count": 9,
   "metadata": {},
   "outputs": [
    {
     "data": {
      "text/html": [
       "<div>\n",
       "<style scoped>\n",
       "    .dataframe tbody tr th:only-of-type {\n",
       "        vertical-align: middle;\n",
       "    }\n",
       "\n",
       "    .dataframe tbody tr th {\n",
       "        vertical-align: top;\n",
       "    }\n",
       "\n",
       "    .dataframe thead th {\n",
       "        text-align: right;\n",
       "    }\n",
       "</style>\n",
       "<table border=\"1\" class=\"dataframe\">\n",
       "  <thead>\n",
       "    <tr style=\"text-align: right;\">\n",
       "      <th></th>\n",
       "      <th>Area</th>\n",
       "      <th>Construction</th>\n",
       "      <th>Room</th>\n",
       "      <th>Warehouse</th>\n",
       "      <th>Parking</th>\n",
       "      <th>Elevator</th>\n",
       "      <th>Address</th>\n",
       "      <th>Price</th>\n",
       "      <th>foramting_change</th>\n",
       "    </tr>\n",
       "  </thead>\n",
       "  <tbody>\n",
       "    <tr>\n",
       "      <th>295</th>\n",
       "      <td>80</td>\n",
       "      <td>1399</td>\n",
       "      <td>2</td>\n",
       "      <td>True</td>\n",
       "      <td>True</td>\n",
       "      <td>True</td>\n",
       "      <td>۱ ساعت پیش در تهران، اقدسیه</td>\n",
       "      <td>توافقی</td>\n",
       "      <td>توافقی</td>\n",
       "    </tr>\n",
       "    <tr>\n",
       "      <th>704</th>\n",
       "      <td>72</td>\n",
       "      <td>1401</td>\n",
       "      <td>2</td>\n",
       "      <td>True</td>\n",
       "      <td>True</td>\n",
       "      <td>True</td>\n",
       "      <td>۲ ساعت پیش در تهران، مبارک‌آباد بهشتی</td>\n",
       "      <td>توافقی</td>\n",
       "      <td>توافقی</td>\n",
       "    </tr>\n",
       "    <tr>\n",
       "      <th>874</th>\n",
       "      <td>460</td>\n",
       "      <td>1401</td>\n",
       "      <td>4</td>\n",
       "      <td>True</td>\n",
       "      <td>True</td>\n",
       "      <td>True</td>\n",
       "      <td>۲ ساعت پیش در تهران، الهیه</td>\n",
       "      <td>توافقی</td>\n",
       "      <td>توافقی</td>\n",
       "    </tr>\n",
       "    <tr>\n",
       "      <th>881</th>\n",
       "      <td>935</td>\n",
       "      <td>1400</td>\n",
       "      <td>4</td>\n",
       "      <td>True</td>\n",
       "      <td>True</td>\n",
       "      <td>True</td>\n",
       "      <td>۲ ساعت پیش در تهران، الهیه</td>\n",
       "      <td>توافقی</td>\n",
       "      <td>توافقی</td>\n",
       "    </tr>\n",
       "    <tr>\n",
       "      <th>900</th>\n",
       "      <td>418</td>\n",
       "      <td>1401</td>\n",
       "      <td>4</td>\n",
       "      <td>True</td>\n",
       "      <td>True</td>\n",
       "      <td>True</td>\n",
       "      <td>۲ ساعت پیش در تهران، الهیه</td>\n",
       "      <td>توافقی</td>\n",
       "      <td>توافقی</td>\n",
       "    </tr>\n",
       "    <tr>\n",
       "      <th>...</th>\n",
       "      <td>...</td>\n",
       "      <td>...</td>\n",
       "      <td>...</td>\n",
       "      <td>...</td>\n",
       "      <td>...</td>\n",
       "      <td>...</td>\n",
       "      <td>...</td>\n",
       "      <td>...</td>\n",
       "      <td>...</td>\n",
       "    </tr>\n",
       "    <tr>\n",
       "      <th>88099</th>\n",
       "      <td>120</td>\n",
       "      <td>1400</td>\n",
       "      <td>2</td>\n",
       "      <td>True</td>\n",
       "      <td>True</td>\n",
       "      <td>True</td>\n",
       "      <td>۲ هفته پیش در تهران، سعادت‌آباد</td>\n",
       "      <td>توافقی</td>\n",
       "      <td>توافقی</td>\n",
       "    </tr>\n",
       "    <tr>\n",
       "      <th>88513</th>\n",
       "      <td>100</td>\n",
       "      <td>1401</td>\n",
       "      <td>2</td>\n",
       "      <td>True</td>\n",
       "      <td>True</td>\n",
       "      <td>True</td>\n",
       "      <td>۲ هفته پیش در تهران، چیتگر</td>\n",
       "      <td>توافقی</td>\n",
       "      <td>توافقی</td>\n",
       "    </tr>\n",
       "    <tr>\n",
       "      <th>88624</th>\n",
       "      <td>160</td>\n",
       "      <td>1395</td>\n",
       "      <td>3</td>\n",
       "      <td>True</td>\n",
       "      <td>True</td>\n",
       "      <td>True</td>\n",
       "      <td>۳ روز پیش در تهران، مرزداران</td>\n",
       "      <td>توافقی</td>\n",
       "      <td>توافقی</td>\n",
       "    </tr>\n",
       "    <tr>\n",
       "      <th>91441</th>\n",
       "      <td>360</td>\n",
       "      <td>1400</td>\n",
       "      <td>4</td>\n",
       "      <td>True</td>\n",
       "      <td>True</td>\n",
       "      <td>True</td>\n",
       "      <td>۲ هفته پیش در تهران، پاسداران</td>\n",
       "      <td>توافقی</td>\n",
       "      <td>توافقی</td>\n",
       "    </tr>\n",
       "    <tr>\n",
       "      <th>92095</th>\n",
       "      <td>200</td>\n",
       "      <td>1400</td>\n",
       "      <td>3</td>\n",
       "      <td>True</td>\n",
       "      <td>True</td>\n",
       "      <td>True</td>\n",
       "      <td>۲ روز پیش در تهران، فرمانیه</td>\n",
       "      <td>توافقی</td>\n",
       "      <td>توافقی</td>\n",
       "    </tr>\n",
       "  </tbody>\n",
       "</table>\n",
       "<p>245 rows × 9 columns</p>\n",
       "</div>"
      ],
      "text/plain": [
       "      Area Construction Room Warehouse Parking Elevator  \\\n",
       "295     80         1399    2      True    True     True   \n",
       "704     72         1401    2      True    True     True   \n",
       "874    460         1401    4      True    True     True   \n",
       "881    935         1400    4      True    True     True   \n",
       "900    418         1401    4      True    True     True   \n",
       "...    ...          ...  ...       ...     ...      ...   \n",
       "88099  120         1400    2      True    True     True   \n",
       "88513  100         1401    2      True    True     True   \n",
       "88624  160         1395    3      True    True     True   \n",
       "91441  360         1400    4      True    True     True   \n",
       "92095  200         1400    3      True    True     True   \n",
       "\n",
       "                                     Address   Price foramting_change  \n",
       "295              ۱ ساعت پیش در تهران، اقدسیه  توافقی           توافقی  \n",
       "704    ۲ ساعت پیش در تهران، مبارک‌آباد بهشتی  توافقی           توافقی  \n",
       "874               ۲ ساعت پیش در تهران، الهیه  توافقی           توافقی  \n",
       "881               ۲ ساعت پیش در تهران، الهیه  توافقی           توافقی  \n",
       "900               ۲ ساعت پیش در تهران، الهیه  توافقی           توافقی  \n",
       "...                                      ...     ...              ...  \n",
       "88099        ۲ هفته پیش در تهران، سعادت‌آباد  توافقی           توافقی  \n",
       "88513             ۲ هفته پیش در تهران، چیتگر  توافقی           توافقی  \n",
       "88624           ۳ روز پیش در تهران، مرزداران  توافقی           توافقی  \n",
       "91441          ۲ هفته پیش در تهران، پاسداران  توافقی           توافقی  \n",
       "92095            ۲ روز پیش در تهران، فرمانیه  توافقی           توافقی  \n",
       "\n",
       "[245 rows x 9 columns]"
      ]
     },
     "execution_count": 9,
     "metadata": {},
     "output_type": "execute_result"
    }
   ],
   "source": [
    "filter_divar_2023"
   ]
  },
  {
   "cell_type": "code",
   "execution_count": 10,
   "metadata": {},
   "outputs": [],
   "source": [
    "# Replace توافقی price to 0 (mabey we change zero number later)\n",
    "# divar_2023['foramting_change'] = divar_2023['foramting_change'].apply(lambda x:'0' if x == 'توافقی' else x) "
   ]
  },
  {
   "cell_type": "code",
   "execution_count": 11,
   "metadata": {},
   "outputs": [],
   "source": [
    "# Find index them and remove\n",
    "index_tavafoghi = filter_divar_2023.index\n",
    "divar_2023.drop(index_tavafoghi,inplace=True)"
   ]
  },
  {
   "cell_type": "code",
   "execution_count": 12,
   "metadata": {},
   "outputs": [
    {
     "ename": "ValueError",
     "evalue": "invalid literal for int() with base 10: 'Price'",
     "output_type": "error",
     "traceback": [
      "\u001b[1;31m---------------------------------------------------------------------------\u001b[0m",
      "\u001b[1;31mValueError\u001b[0m                                Traceback (most recent call last)",
      "Cell \u001b[1;32mIn[12], line 3\u001b[0m\n\u001b[0;32m      1\u001b[0m \u001b[38;5;66;03m# There is an error\u001b[39;00m\n\u001b[0;32m      2\u001b[0m \u001b[38;5;66;03m# The error says It cannot change \"Price\" to integer\u001b[39;00m\n\u001b[1;32m----> 3\u001b[0m \u001b[43mdivar_2023\u001b[49m\u001b[43m[\u001b[49m\u001b[38;5;124;43m'\u001b[39;49m\u001b[38;5;124;43mforamting_change\u001b[39;49m\u001b[38;5;124;43m'\u001b[39;49m\u001b[43m]\u001b[49m\u001b[38;5;241;43m.\u001b[39;49m\u001b[43mapply\u001b[49m\u001b[43m(\u001b[49m\u001b[38;5;28;43;01mlambda\u001b[39;49;00m\u001b[43m \u001b[49m\u001b[43mx\u001b[49m\u001b[43m:\u001b[49m\u001b[38;5;28;43mint\u001b[39;49m\u001b[43m(\u001b[49m\u001b[43mx\u001b[49m\u001b[43m)\u001b[49m\u001b[43m)\u001b[49m\n",
      "File \u001b[1;32mc:\\Users\\armin\\AppData\\Local\\Programs\\Python\\Python311\\Lib\\site-packages\\pandas\\core\\series.py:4904\u001b[0m, in \u001b[0;36mSeries.apply\u001b[1;34m(self, func, convert_dtype, args, by_row, **kwargs)\u001b[0m\n\u001b[0;32m   4769\u001b[0m \u001b[38;5;28;01mdef\u001b[39;00m \u001b[38;5;21mapply\u001b[39m(\n\u001b[0;32m   4770\u001b[0m     \u001b[38;5;28mself\u001b[39m,\n\u001b[0;32m   4771\u001b[0m     func: AggFuncType,\n\u001b[1;32m   (...)\u001b[0m\n\u001b[0;32m   4776\u001b[0m     \u001b[38;5;241m*\u001b[39m\u001b[38;5;241m*\u001b[39mkwargs,\n\u001b[0;32m   4777\u001b[0m ) \u001b[38;5;241m-\u001b[39m\u001b[38;5;241m>\u001b[39m DataFrame \u001b[38;5;241m|\u001b[39m Series:\n\u001b[0;32m   4778\u001b[0m     \u001b[38;5;124;03m\"\"\"\u001b[39;00m\n\u001b[0;32m   4779\u001b[0m \u001b[38;5;124;03m    Invoke function on values of Series.\u001b[39;00m\n\u001b[0;32m   4780\u001b[0m \n\u001b[1;32m   (...)\u001b[0m\n\u001b[0;32m   4895\u001b[0m \u001b[38;5;124;03m    dtype: float64\u001b[39;00m\n\u001b[0;32m   4896\u001b[0m \u001b[38;5;124;03m    \"\"\"\u001b[39;00m\n\u001b[0;32m   4897\u001b[0m     \u001b[38;5;28;01mreturn\u001b[39;00m \u001b[43mSeriesApply\u001b[49m\u001b[43m(\u001b[49m\n\u001b[0;32m   4898\u001b[0m \u001b[43m        \u001b[49m\u001b[38;5;28;43mself\u001b[39;49m\u001b[43m,\u001b[49m\n\u001b[0;32m   4899\u001b[0m \u001b[43m        \u001b[49m\u001b[43mfunc\u001b[49m\u001b[43m,\u001b[49m\n\u001b[0;32m   4900\u001b[0m \u001b[43m        \u001b[49m\u001b[43mconvert_dtype\u001b[49m\u001b[38;5;241;43m=\u001b[39;49m\u001b[43mconvert_dtype\u001b[49m\u001b[43m,\u001b[49m\n\u001b[0;32m   4901\u001b[0m \u001b[43m        \u001b[49m\u001b[43mby_row\u001b[49m\u001b[38;5;241;43m=\u001b[39;49m\u001b[43mby_row\u001b[49m\u001b[43m,\u001b[49m\n\u001b[0;32m   4902\u001b[0m \u001b[43m        \u001b[49m\u001b[43margs\u001b[49m\u001b[38;5;241;43m=\u001b[39;49m\u001b[43margs\u001b[49m\u001b[43m,\u001b[49m\n\u001b[0;32m   4903\u001b[0m \u001b[43m        \u001b[49m\u001b[43mkwargs\u001b[49m\u001b[38;5;241;43m=\u001b[39;49m\u001b[43mkwargs\u001b[49m\u001b[43m,\u001b[49m\n\u001b[1;32m-> 4904\u001b[0m \u001b[43m    \u001b[49m\u001b[43m)\u001b[49m\u001b[38;5;241;43m.\u001b[39;49m\u001b[43mapply\u001b[49m\u001b[43m(\u001b[49m\u001b[43m)\u001b[49m\n",
      "File \u001b[1;32mc:\\Users\\armin\\AppData\\Local\\Programs\\Python\\Python311\\Lib\\site-packages\\pandas\\core\\apply.py:1427\u001b[0m, in \u001b[0;36mSeriesApply.apply\u001b[1;34m(self)\u001b[0m\n\u001b[0;32m   1424\u001b[0m     \u001b[38;5;28;01mreturn\u001b[39;00m \u001b[38;5;28mself\u001b[39m\u001b[38;5;241m.\u001b[39mapply_compat()\n\u001b[0;32m   1426\u001b[0m \u001b[38;5;66;03m# self.func is Callable\u001b[39;00m\n\u001b[1;32m-> 1427\u001b[0m \u001b[38;5;28;01mreturn\u001b[39;00m \u001b[38;5;28;43mself\u001b[39;49m\u001b[38;5;241;43m.\u001b[39;49m\u001b[43mapply_standard\u001b[49m\u001b[43m(\u001b[49m\u001b[43m)\u001b[49m\n",
      "File \u001b[1;32mc:\\Users\\armin\\AppData\\Local\\Programs\\Python\\Python311\\Lib\\site-packages\\pandas\\core\\apply.py:1507\u001b[0m, in \u001b[0;36mSeriesApply.apply_standard\u001b[1;34m(self)\u001b[0m\n\u001b[0;32m   1501\u001b[0m \u001b[38;5;66;03m# row-wise access\u001b[39;00m\n\u001b[0;32m   1502\u001b[0m \u001b[38;5;66;03m# apply doesn't have a `na_action` keyword and for backward compat reasons\u001b[39;00m\n\u001b[0;32m   1503\u001b[0m \u001b[38;5;66;03m# we need to give `na_action=\"ignore\"` for categorical data.\u001b[39;00m\n\u001b[0;32m   1504\u001b[0m \u001b[38;5;66;03m# TODO: remove the `na_action=\"ignore\"` when that default has been changed in\u001b[39;00m\n\u001b[0;32m   1505\u001b[0m \u001b[38;5;66;03m#  Categorical (GH51645).\u001b[39;00m\n\u001b[0;32m   1506\u001b[0m action \u001b[38;5;241m=\u001b[39m \u001b[38;5;124m\"\u001b[39m\u001b[38;5;124mignore\u001b[39m\u001b[38;5;124m\"\u001b[39m \u001b[38;5;28;01mif\u001b[39;00m \u001b[38;5;28misinstance\u001b[39m(obj\u001b[38;5;241m.\u001b[39mdtype, CategoricalDtype) \u001b[38;5;28;01melse\u001b[39;00m \u001b[38;5;28;01mNone\u001b[39;00m\n\u001b[1;32m-> 1507\u001b[0m mapped \u001b[38;5;241m=\u001b[39m \u001b[43mobj\u001b[49m\u001b[38;5;241;43m.\u001b[39;49m\u001b[43m_map_values\u001b[49m\u001b[43m(\u001b[49m\n\u001b[0;32m   1508\u001b[0m \u001b[43m    \u001b[49m\u001b[43mmapper\u001b[49m\u001b[38;5;241;43m=\u001b[39;49m\u001b[43mcurried\u001b[49m\u001b[43m,\u001b[49m\u001b[43m \u001b[49m\u001b[43mna_action\u001b[49m\u001b[38;5;241;43m=\u001b[39;49m\u001b[43maction\u001b[49m\u001b[43m,\u001b[49m\u001b[43m \u001b[49m\u001b[43mconvert\u001b[49m\u001b[38;5;241;43m=\u001b[39;49m\u001b[38;5;28;43mself\u001b[39;49m\u001b[38;5;241;43m.\u001b[39;49m\u001b[43mconvert_dtype\u001b[49m\n\u001b[0;32m   1509\u001b[0m \u001b[43m\u001b[49m\u001b[43m)\u001b[49m\n\u001b[0;32m   1511\u001b[0m \u001b[38;5;28;01mif\u001b[39;00m \u001b[38;5;28mlen\u001b[39m(mapped) \u001b[38;5;129;01mand\u001b[39;00m \u001b[38;5;28misinstance\u001b[39m(mapped[\u001b[38;5;241m0\u001b[39m], ABCSeries):\n\u001b[0;32m   1512\u001b[0m     \u001b[38;5;66;03m# GH#43986 Need to do list(mapped) in order to get treated as nested\u001b[39;00m\n\u001b[0;32m   1513\u001b[0m     \u001b[38;5;66;03m#  See also GH#25959 regarding EA support\u001b[39;00m\n\u001b[0;32m   1514\u001b[0m     \u001b[38;5;28;01mreturn\u001b[39;00m obj\u001b[38;5;241m.\u001b[39m_constructor_expanddim(\u001b[38;5;28mlist\u001b[39m(mapped), index\u001b[38;5;241m=\u001b[39mobj\u001b[38;5;241m.\u001b[39mindex)\n",
      "File \u001b[1;32mc:\\Users\\armin\\AppData\\Local\\Programs\\Python\\Python311\\Lib\\site-packages\\pandas\\core\\base.py:921\u001b[0m, in \u001b[0;36mIndexOpsMixin._map_values\u001b[1;34m(self, mapper, na_action, convert)\u001b[0m\n\u001b[0;32m    918\u001b[0m \u001b[38;5;28;01mif\u001b[39;00m \u001b[38;5;28misinstance\u001b[39m(arr, ExtensionArray):\n\u001b[0;32m    919\u001b[0m     \u001b[38;5;28;01mreturn\u001b[39;00m arr\u001b[38;5;241m.\u001b[39mmap(mapper, na_action\u001b[38;5;241m=\u001b[39mna_action)\n\u001b[1;32m--> 921\u001b[0m \u001b[38;5;28;01mreturn\u001b[39;00m \u001b[43malgorithms\u001b[49m\u001b[38;5;241;43m.\u001b[39;49m\u001b[43mmap_array\u001b[49m\u001b[43m(\u001b[49m\u001b[43marr\u001b[49m\u001b[43m,\u001b[49m\u001b[43m \u001b[49m\u001b[43mmapper\u001b[49m\u001b[43m,\u001b[49m\u001b[43m \u001b[49m\u001b[43mna_action\u001b[49m\u001b[38;5;241;43m=\u001b[39;49m\u001b[43mna_action\u001b[49m\u001b[43m,\u001b[49m\u001b[43m \u001b[49m\u001b[43mconvert\u001b[49m\u001b[38;5;241;43m=\u001b[39;49m\u001b[43mconvert\u001b[49m\u001b[43m)\u001b[49m\n",
      "File \u001b[1;32mc:\\Users\\armin\\AppData\\Local\\Programs\\Python\\Python311\\Lib\\site-packages\\pandas\\core\\algorithms.py:1743\u001b[0m, in \u001b[0;36mmap_array\u001b[1;34m(arr, mapper, na_action, convert)\u001b[0m\n\u001b[0;32m   1741\u001b[0m values \u001b[38;5;241m=\u001b[39m arr\u001b[38;5;241m.\u001b[39mastype(\u001b[38;5;28mobject\u001b[39m, copy\u001b[38;5;241m=\u001b[39m\u001b[38;5;28;01mFalse\u001b[39;00m)\n\u001b[0;32m   1742\u001b[0m \u001b[38;5;28;01mif\u001b[39;00m na_action \u001b[38;5;129;01mis\u001b[39;00m \u001b[38;5;28;01mNone\u001b[39;00m:\n\u001b[1;32m-> 1743\u001b[0m     \u001b[38;5;28;01mreturn\u001b[39;00m \u001b[43mlib\u001b[49m\u001b[38;5;241;43m.\u001b[39;49m\u001b[43mmap_infer\u001b[49m\u001b[43m(\u001b[49m\u001b[43mvalues\u001b[49m\u001b[43m,\u001b[49m\u001b[43m \u001b[49m\u001b[43mmapper\u001b[49m\u001b[43m,\u001b[49m\u001b[43m \u001b[49m\u001b[43mconvert\u001b[49m\u001b[38;5;241;43m=\u001b[39;49m\u001b[43mconvert\u001b[49m\u001b[43m)\u001b[49m\n\u001b[0;32m   1744\u001b[0m \u001b[38;5;28;01melse\u001b[39;00m:\n\u001b[0;32m   1745\u001b[0m     \u001b[38;5;28;01mreturn\u001b[39;00m lib\u001b[38;5;241m.\u001b[39mmap_infer_mask(\n\u001b[0;32m   1746\u001b[0m         values, mapper, mask\u001b[38;5;241m=\u001b[39misna(values)\u001b[38;5;241m.\u001b[39mview(np\u001b[38;5;241m.\u001b[39muint8), convert\u001b[38;5;241m=\u001b[39mconvert\n\u001b[0;32m   1747\u001b[0m     )\n",
      "File \u001b[1;32mlib.pyx:2972\u001b[0m, in \u001b[0;36mpandas._libs.lib.map_infer\u001b[1;34m()\u001b[0m\n",
      "Cell \u001b[1;32mIn[12], line 3\u001b[0m, in \u001b[0;36m<lambda>\u001b[1;34m(x)\u001b[0m\n\u001b[0;32m      1\u001b[0m \u001b[38;5;66;03m# There is an error\u001b[39;00m\n\u001b[0;32m      2\u001b[0m \u001b[38;5;66;03m# The error says It cannot change \"Price\" to integer\u001b[39;00m\n\u001b[1;32m----> 3\u001b[0m divar_2023[\u001b[38;5;124m'\u001b[39m\u001b[38;5;124mforamting_change\u001b[39m\u001b[38;5;124m'\u001b[39m]\u001b[38;5;241m.\u001b[39mapply(\u001b[38;5;28;01mlambda\u001b[39;00m x:\u001b[38;5;28;43mint\u001b[39;49m\u001b[43m(\u001b[49m\u001b[43mx\u001b[49m\u001b[43m)\u001b[49m)\n",
      "\u001b[1;31mValueError\u001b[0m: invalid literal for int() with base 10: 'Price'"
     ]
    }
   ],
   "source": [
    "# There is an error\n",
    "# The error says It cannot change \"Price\" to integer\n",
    "divar_2023['foramting_change'].apply(lambda x:int(x))"
   ]
  },
  {
   "cell_type": "code",
   "execution_count": 12,
   "metadata": {},
   "outputs": [
    {
     "name": "stdout",
     "output_type": "stream",
     "text": [
      "Area\n",
      "Construction\n",
      "Room\n",
      "Warehouse\n",
      "Parking\n",
      "Elevator\n",
      "Address\n",
      "Price\n"
     ]
    }
   ],
   "source": [
    "# There is one row that have wrong values\n",
    "for i in divar_2023.iloc[:,:]:\n",
    "    if i.isalpha():\n",
    "        print(i)"
   ]
  },
  {
   "cell_type": "code",
   "execution_count": 13,
   "metadata": {},
   "outputs": [],
   "source": [
    "index_d = divar_2023[divar_2023['Price'] == 'Price'].index\n",
    "index_d\n",
    "# Remove it from dataset\n",
    "divar_2023.drop(index_d,inplace=True)"
   ]
  },
  {
   "cell_type": "code",
   "execution_count": 14,
   "metadata": {},
   "outputs": [
    {
     "data": {
      "text/html": [
       "<div>\n",
       "<style scoped>\n",
       "    .dataframe tbody tr th:only-of-type {\n",
       "        vertical-align: middle;\n",
       "    }\n",
       "\n",
       "    .dataframe tbody tr th {\n",
       "        vertical-align: top;\n",
       "    }\n",
       "\n",
       "    .dataframe thead th {\n",
       "        text-align: right;\n",
       "    }\n",
       "</style>\n",
       "<table border=\"1\" class=\"dataframe\">\n",
       "  <thead>\n",
       "    <tr style=\"text-align: right;\">\n",
       "      <th></th>\n",
       "      <th>Area</th>\n",
       "      <th>Construction</th>\n",
       "      <th>Room</th>\n",
       "      <th>Warehouse</th>\n",
       "      <th>Parking</th>\n",
       "      <th>Elevator</th>\n",
       "      <th>Address</th>\n",
       "      <th>foramting_change</th>\n",
       "    </tr>\n",
       "  </thead>\n",
       "  <tbody>\n",
       "    <tr>\n",
       "      <th>0</th>\n",
       "      <td>153</td>\n",
       "      <td>1393</td>\n",
       "      <td>3</td>\n",
       "      <td>True</td>\n",
       "      <td>True</td>\n",
       "      <td>True</td>\n",
       "      <td>۱ ساعت پیش در تهران، درکه</td>\n",
       "      <td>18360000000</td>\n",
       "    </tr>\n",
       "    <tr>\n",
       "      <th>1</th>\n",
       "      <td>418</td>\n",
       "      <td>1382</td>\n",
       "      <td>4</td>\n",
       "      <td>True</td>\n",
       "      <td>True</td>\n",
       "      <td>True</td>\n",
       "      <td>۱ ساعت پیش در تهران، زعفرانیه</td>\n",
       "      <td>130000000000</td>\n",
       "    </tr>\n",
       "    <tr>\n",
       "      <th>2</th>\n",
       "      <td>57</td>\n",
       "      <td>1385</td>\n",
       "      <td>2</td>\n",
       "      <td>False</td>\n",
       "      <td>False</td>\n",
       "      <td>True</td>\n",
       "      <td>۱ ساعت پیش در تهران، جابری</td>\n",
       "      <td>2600000000</td>\n",
       "    </tr>\n",
       "    <tr>\n",
       "      <th>3</th>\n",
       "      <td>193</td>\n",
       "      <td>1371</td>\n",
       "      <td>3</td>\n",
       "      <td>False</td>\n",
       "      <td>False</td>\n",
       "      <td>True</td>\n",
       "      <td>۱ ساعت پیش در تهران، فرمانیه</td>\n",
       "      <td>23000000000</td>\n",
       "    </tr>\n",
       "    <tr>\n",
       "      <th>4</th>\n",
       "      <td>62</td>\n",
       "      <td>1401</td>\n",
       "      <td>1</td>\n",
       "      <td>True</td>\n",
       "      <td>True</td>\n",
       "      <td>True</td>\n",
       "      <td>۱ ساعت پیش در تهران، دهکده المپیک، بزرگراه همت...</td>\n",
       "      <td>1410000000</td>\n",
       "    </tr>\n",
       "    <tr>\n",
       "      <th>...</th>\n",
       "      <td>...</td>\n",
       "      <td>...</td>\n",
       "      <td>...</td>\n",
       "      <td>...</td>\n",
       "      <td>...</td>\n",
       "      <td>...</td>\n",
       "      <td>...</td>\n",
       "      <td>...</td>\n",
       "    </tr>\n",
       "    <tr>\n",
       "      <th>94031</th>\n",
       "      <td>181</td>\n",
       "      <td>1393</td>\n",
       "      <td>3</td>\n",
       "      <td>True</td>\n",
       "      <td>True</td>\n",
       "      <td>True</td>\n",
       "      <td>۲ هفته پیش در تهران، جردن</td>\n",
       "      <td>18000000000</td>\n",
       "    </tr>\n",
       "    <tr>\n",
       "      <th>94032</th>\n",
       "      <td>121</td>\n",
       "      <td>1400</td>\n",
       "      <td>3</td>\n",
       "      <td>True</td>\n",
       "      <td>True</td>\n",
       "      <td>True</td>\n",
       "      <td>۲ هفته پیش در تهران، اباذر</td>\n",
       "      <td>13800000000</td>\n",
       "    </tr>\n",
       "    <tr>\n",
       "      <th>94033</th>\n",
       "      <td>140</td>\n",
       "      <td>1400</td>\n",
       "      <td>3</td>\n",
       "      <td>True</td>\n",
       "      <td>True</td>\n",
       "      <td>True</td>\n",
       "      <td>۲ هفته پیش در تهران، آبشار تهران</td>\n",
       "      <td>9860000000</td>\n",
       "    </tr>\n",
       "    <tr>\n",
       "      <th>94034</th>\n",
       "      <td>105</td>\n",
       "      <td>1398</td>\n",
       "      <td>2</td>\n",
       "      <td>True</td>\n",
       "      <td>True</td>\n",
       "      <td>True</td>\n",
       "      <td>۲ هفته پیش در تهران، اوقاف</td>\n",
       "      <td>6430000000</td>\n",
       "    </tr>\n",
       "    <tr>\n",
       "      <th>94035</th>\n",
       "      <td>51</td>\n",
       "      <td>1385</td>\n",
       "      <td>1</td>\n",
       "      <td>True</td>\n",
       "      <td>True</td>\n",
       "      <td>True</td>\n",
       "      <td>۲ هفته پیش در تهران، سلسبیل</td>\n",
       "      <td>3100000000</td>\n",
       "    </tr>\n",
       "  </tbody>\n",
       "</table>\n",
       "<p>93790 rows × 8 columns</p>\n",
       "</div>"
      ],
      "text/plain": [
       "      Area Construction Room Warehouse Parking Elevator  \\\n",
       "0      153         1393    3      True    True     True   \n",
       "1      418         1382    4      True    True     True   \n",
       "2       57         1385    2     False   False     True   \n",
       "3      193         1371    3     False   False     True   \n",
       "4       62         1401    1      True    True     True   \n",
       "...    ...          ...  ...       ...     ...      ...   \n",
       "94031  181         1393    3      True    True     True   \n",
       "94032  121         1400    3      True    True     True   \n",
       "94033  140         1400    3      True    True     True   \n",
       "94034  105         1398    2      True    True     True   \n",
       "94035   51         1385    1      True    True     True   \n",
       "\n",
       "                                                 Address  foramting_change  \n",
       "0                              ۱ ساعت پیش در تهران، درکه       18360000000  \n",
       "1                          ۱ ساعت پیش در تهران، زعفرانیه      130000000000  \n",
       "2                             ۱ ساعت پیش در تهران، جابری        2600000000  \n",
       "3                           ۱ ساعت پیش در تهران، فرمانیه       23000000000  \n",
       "4      ۱ ساعت پیش در تهران، دهکده المپیک، بزرگراه همت...        1410000000  \n",
       "...                                                  ...               ...  \n",
       "94031                          ۲ هفته پیش در تهران، جردن       18000000000  \n",
       "94032                         ۲ هفته پیش در تهران، اباذر       13800000000  \n",
       "94033                   ۲ هفته پیش در تهران، آبشار تهران        9860000000  \n",
       "94034                         ۲ هفته پیش در تهران، اوقاف        6430000000  \n",
       "94035                        ۲ هفته پیش در تهران، سلسبیل        3100000000  \n",
       "\n",
       "[93790 rows x 8 columns]"
      ]
     },
     "execution_count": 14,
     "metadata": {},
     "output_type": "execute_result"
    }
   ],
   "source": [
    "# Change format of string numbers to integer \n",
    "divar_2023['foramting_change'] = divar_2023['foramting_change'].apply(lambda x:int(x))\n",
    "divar_2023.drop('Price',axis=1,inplace=True)\n",
    "divar_2023"
   ]
  },
  {
   "cell_type": "markdown",
   "metadata": {},
   "source": [
    "Now the format were changed to integer.\n",
    "\n",
    "the below code is change name of columns to lower case"
   ]
  },
  {
   "cell_type": "code",
   "execution_count": 15,
   "metadata": {},
   "outputs": [],
   "source": [
    "# Rename column to Price\n",
    "divar_2023.rename(columns={'foramting_change':'price','Construction':'year',\n",
    "                           'Area':'area','Room':'room','Warehouse':'warehouse',\n",
    "                           'Parking':'parking','Elevator':'elevator','Address':'address'}\n",
    "                           ,errors='raise',inplace=True)"
   ]
  },
  {
   "cell_type": "markdown",
   "metadata": {},
   "source": [
    "# Apartment 2021"
   ]
  },
  {
   "cell_type": "markdown",
   "metadata": {},
   "source": [
    "We just only work with \"apartment-sell\" part"
   ]
  },
  {
   "cell_type": "code",
   "execution_count": 16,
   "metadata": {},
   "outputs": [],
   "source": [
    "apartmnet_sell_2021 = divar_2021[divar_2021['sub_category'] == 'apartment-sell'].reset_index()"
   ]
  },
  {
   "cell_type": "markdown",
   "metadata": {},
   "source": [
    "Here we change the name of columns to same as 2023 dataset"
   ]
  },
  {
   "cell_type": "code",
   "execution_count": 17,
   "metadata": {},
   "outputs": [],
   "source": [
    "apartmnet_sell_2021.rename(columns={\"district\":\"address\"},errors='raise',inplace=True)"
   ]
  },
  {
   "cell_type": "code",
   "execution_count": 18,
   "metadata": {},
   "outputs": [],
   "source": [
    "# Select just the address \n",
    "divar_2023['address'] = divar_2023['address'].apply(lambda x:x.split('،')[1])"
   ]
  },
  {
   "cell_type": "code",
   "execution_count": 19,
   "metadata": {},
   "outputs": [],
   "source": [
    "# remove some unimportant columns\n",
    "apartmnet_sell_2021.drop(columns=['Unnamed: 0','index','rent','credit','business_type','agency','balcony','token','location'],inplace=True)"
   ]
  },
  {
   "cell_type": "code",
   "execution_count": 20,
   "metadata": {},
   "outputs": [
    {
     "data": {
      "text/plain": [
       "address             0\n",
       "sub_category        0\n",
       "category            0\n",
       "price           70682\n",
       "title               0\n",
       "area                3\n",
       "year               25\n",
       "room                6\n",
       "floor            7516\n",
       "elevator         7501\n",
       "parking          7497\n",
       "storage          7526\n",
       "dtype: int64"
      ]
     },
     "execution_count": 20,
     "metadata": {},
     "output_type": "execute_result"
    }
   ],
   "source": [
    "apartmnet_sell_2021.isnull().sum()"
   ]
  },
  {
   "cell_type": "code",
   "execution_count": 21,
   "metadata": {},
   "outputs": [],
   "source": [
    "housing_data = apartmnet_sell_2021.copy()\n",
    "housing_data.dropna(subset=['price','year'],inplace=True)"
   ]
  },
  {
   "cell_type": "code",
   "execution_count": 22,
   "metadata": {},
   "outputs": [],
   "source": [
    "# apartmnet_sell_2021.groupby('address')['price'].size()\n",
    "# apartmnet_sell_2021.groupby('address')['price'].count()"
   ]
  },
  {
   "cell_type": "code",
   "execution_count": 23,
   "metadata": {},
   "outputs": [],
   "source": [
    "# apartmnet_sell = apartmnet_sell_2021.copy()\n",
    "# apartmnet_sell[(apartmnet_sell['price'].isnull()) & (apartmnet_sell['parking'].isnull())]\n",
    "# apartmnet_sell[(apartmnet_sell['year'] == 1380) & (apartmnet_sell['address']=='تجریش')]\n",
    "# apartmnet_sell['price'] = apartmnet_sell['price'].fillna(apartmnet_sell.groupby(['address','year'])['price'].transform('median'))\n",
    "# apartmnet_sell[(apartmnet_sell['address'].isnull())]\n",
    "# apartmnet_sell[(apartmnet_sell['price'].isnull())]\n",
    "# apartmnet_sell.isnull().sum()"
   ]
  },
  {
   "cell_type": "code",
   "execution_count": 24,
   "metadata": {},
   "outputs": [
    {
     "name": "stdout",
     "output_type": "stream",
     "text": [
      "<class 'pandas.core.frame.DataFrame'>\n",
      "Index: 93790 entries, 0 to 94035\n",
      "Data columns (total 8 columns):\n",
      " #   Column     Non-Null Count  Dtype \n",
      "---  ------     --------------  ----- \n",
      " 0   area       93790 non-null  object\n",
      " 1   year       93790 non-null  object\n",
      " 2   room       93790 non-null  object\n",
      " 3   warehouse  93790 non-null  object\n",
      " 4   parking    93790 non-null  object\n",
      " 5   elevator   93790 non-null  object\n",
      " 6   address    93790 non-null  object\n",
      " 7   price      93790 non-null  int64 \n",
      "dtypes: int64(1), object(7)\n",
      "memory usage: 6.4+ MB\n"
     ]
    }
   ],
   "source": [
    "divar_2023.info()"
   ]
  },
  {
   "cell_type": "code",
   "execution_count": 25,
   "metadata": {},
   "outputs": [
    {
     "name": "stdout",
     "output_type": "stream",
     "text": [
      "<class 'pandas.core.frame.DataFrame'>\n",
      "Index: 124811 entries, 0 to 195474\n",
      "Data columns (total 12 columns):\n",
      " #   Column        Non-Null Count   Dtype  \n",
      "---  ------        --------------   -----  \n",
      " 0   address       124811 non-null  object \n",
      " 1   sub_category  124811 non-null  object \n",
      " 2   category      124811 non-null  object \n",
      " 3   price         124811 non-null  float64\n",
      " 4   title         124811 non-null  object \n",
      " 5   area          124811 non-null  float64\n",
      " 6   year          124811 non-null  float64\n",
      " 7   room          124811 non-null  float64\n",
      " 8   floor         123006 non-null  float64\n",
      " 9   elevator      123006 non-null  object \n",
      " 10  parking       123008 non-null  object \n",
      " 11  storage       123008 non-null  object \n",
      "dtypes: float64(5), object(7)\n",
      "memory usage: 12.4+ MB\n"
     ]
    }
   ],
   "source": [
    "housing_data.info()"
   ]
  },
  {
   "cell_type": "markdown",
   "metadata": {},
   "source": [
    "# Pre-processing"
   ]
  },
  {
   "cell_type": "code",
   "execution_count": 26,
   "metadata": {},
   "outputs": [],
   "source": [
    "# Fill null value \n",
    "housing_data.fillna({'floor':0},inplace=True)\n",
    "housing_data.fillna({'room':0},inplace=True)"
   ]
  },
  {
   "cell_type": "code",
   "execution_count": 27,
   "metadata": {},
   "outputs": [],
   "source": [
    "# change the format of these columns to integer for 2021 dataset\n",
    "housing_data['area'] = housing_data['area'].apply(lambda x:int(x))\n",
    "housing_data['floor'] = housing_data['floor'].apply(lambda x:int(x))\n",
    "housing_data['room'] = housing_data['room'].apply(lambda x:int(x))\n",
    "housing_data['year'] = housing_data['year'].apply(lambda x:int(x))\n",
    "housing_data['price'] = housing_data['price'].apply(lambda x:int(x))"
   ]
  },
  {
   "cell_type": "code",
   "execution_count": 28,
   "metadata": {},
   "outputs": [],
   "source": [
    "# change format for 2023 dataset\n",
    "divar_2023['room'] = divar_2023['room'].apply(lambda x:int(x))\n",
    "divar_2023['year'] = divar_2023['year'].apply(lambda x:int(x))\n",
    "divar_2023['area'] = divar_2023['area'].apply(lambda x:int(x))"
   ]
  },
  {
   "cell_type": "code",
   "execution_count": 29,
   "metadata": {},
   "outputs": [],
   "source": [
    "housing_data.reset_index(inplace=True)\n",
    "housing_data.drop(columns=['index'],inplace=True)"
   ]
  },
  {
   "cell_type": "code",
   "execution_count": 30,
   "metadata": {},
   "outputs": [],
   "source": [
    "divar_2023['address'] = divar_2023['address'].astype(str).str.strip()\n",
    "housing_data['address'] = housing_data['address'].astype(str).str.strip()"
   ]
  },
  {
   "cell_type": "markdown",
   "metadata": {},
   "source": [
    "##### Comparing price changes in different areas of Tehran and finding areas with the highest price growth"
   ]
  },
  {
   "cell_type": "code",
   "execution_count": 31,
   "metadata": {},
   "outputs": [
    {
     "name": "stdout",
     "output_type": "stream",
     "text": [
      "Requirement already satisfied: arabic-reshaper in c:\\users\\armin\\appdata\\local\\programs\\python\\python311\\lib\\site-packages (3.0.0)\n"
     ]
    },
    {
     "name": "stderr",
     "output_type": "stream",
     "text": [
      "WARNING: There was an error checking the latest version of pip.\n"
     ]
    },
    {
     "name": "stdout",
     "output_type": "stream",
     "text": [
      "Requirement already satisfied: python-bidi in c:\\users\\armin\\appdata\\local\\programs\\python\\python311\\lib\\site-packages (0.6.0)\n"
     ]
    },
    {
     "name": "stderr",
     "output_type": "stream",
     "text": [
      "WARNING: There was an error checking the latest version of pip.\n"
     ]
    }
   ],
   "source": [
    "! pip install arabic-reshaper\n",
    "! pip install python-bidi"
   ]
  },
  {
   "cell_type": "code",
   "execution_count": 32,
   "metadata": {},
   "outputs": [],
   "source": [
    "# import some libaries for writing Persian format in right way\n",
    "from bidi.algorithm import get_display\n",
    "from arabic_reshaper import reshape"
   ]
  },
  {
   "cell_type": "code",
   "execution_count": 33,
   "metadata": {},
   "outputs": [],
   "source": [
    "# Group by based on address and then get median of price for each group\n",
    "median_2023 = divar_2023.groupby('address')['price'].median().reset_index()\n",
    "median_2021 = housing_data.groupby('address')['price'].median().reset_index()"
   ]
  },
  {
   "cell_type": "markdown",
   "metadata": {},
   "source": [
    "Why median?\n",
    "\n",
    "+ Because it is not sensitive to outliers and it is possible to give a better limit for these data than the average"
   ]
  },
  {
   "cell_type": "code",
   "execution_count": 34,
   "metadata": {},
   "outputs": [],
   "source": [
    "# Rename columns\n",
    "median_2021.rename(columns={'price':'median_price'},inplace=True)\n",
    "median_2023.rename(columns={'price':'median_price'},inplace=True)\n",
    "median_2023['median_price'] = median_2023['median_price'].apply(lambda x:int(x))\n",
    "median_2021['median_price'] = median_2021['median_price'].apply(lambda x:int(x))"
   ]
  },
  {
   "cell_type": "code",
   "execution_count": 35,
   "metadata": {},
   "outputs": [],
   "source": [
    "# Merge two dataset on address column \n",
    "# Using inner join (just get intersection for both dataset)\n",
    "merge_dataset = pd.merge(median_2021,median_2023,on='address',how='inner',suffixes=['_2021','_2023'])"
   ]
  },
  {
   "cell_type": "markdown",
   "metadata": {},
   "source": [
    "We want intersection because we don't need some areas that are not in another dataset. We want to compare the common areas"
   ]
  },
  {
   "cell_type": "markdown",
   "metadata": {},
   "source": [
    "Now we get Price Growth:"
   ]
  },
  {
   "cell_type": "code",
   "execution_count": 36,
   "metadata": {},
   "outputs": [],
   "source": [
    "merge_dataset['price_growth'] = round(((merge_dataset['median_price_2023'] - merge_dataset['median_price_2021']) / merge_dataset['median_price_2021']) * 100,2)\n",
    "merge_dataset_sorted = merge_dataset.sort_values(by='price_growth',ascending=False).reset_index()\n",
    "merge_dataset_sorted.drop(columns='index',inplace=True)"
   ]
  },
  {
   "cell_type": "code",
   "execution_count": 37,
   "metadata": {},
   "outputs": [
    {
     "data": {
      "text/html": [
       "<div>\n",
       "<style scoped>\n",
       "    .dataframe tbody tr th:only-of-type {\n",
       "        vertical-align: middle;\n",
       "    }\n",
       "\n",
       "    .dataframe tbody tr th {\n",
       "        vertical-align: top;\n",
       "    }\n",
       "\n",
       "    .dataframe thead th {\n",
       "        text-align: right;\n",
       "    }\n",
       "</style>\n",
       "<table border=\"1\" class=\"dataframe\">\n",
       "  <thead>\n",
       "    <tr style=\"text-align: right;\">\n",
       "      <th></th>\n",
       "      <th>address</th>\n",
       "      <th>median_price_2021</th>\n",
       "      <th>median_price_2023</th>\n",
       "      <th>price_growth</th>\n",
       "    </tr>\n",
       "  </thead>\n",
       "  <tbody>\n",
       "    <tr>\n",
       "      <th>0</th>\n",
       "      <td>حسن‌آباد</td>\n",
       "      <td>480000000</td>\n",
       "      <td>3425000000</td>\n",
       "      <td>613.54</td>\n",
       "    </tr>\n",
       "    <tr>\n",
       "      <th>1</th>\n",
       "      <td>شهرک پاسداران</td>\n",
       "      <td>2129600000</td>\n",
       "      <td>15160000000</td>\n",
       "      <td>611.87</td>\n",
       "    </tr>\n",
       "    <tr>\n",
       "      <th>2</th>\n",
       "      <td>شهرک گلها</td>\n",
       "      <td>1450000000</td>\n",
       "      <td>9950000000</td>\n",
       "      <td>586.21</td>\n",
       "    </tr>\n",
       "    <tr>\n",
       "      <th>3</th>\n",
       "      <td>ملک‌آباد</td>\n",
       "      <td>677500000</td>\n",
       "      <td>3875000000</td>\n",
       "      <td>471.96</td>\n",
       "    </tr>\n",
       "    <tr>\n",
       "      <th>4</th>\n",
       "      <td>شهرک مسلمین</td>\n",
       "      <td>737500000</td>\n",
       "      <td>3950000000</td>\n",
       "      <td>435.59</td>\n",
       "    </tr>\n",
       "    <tr>\n",
       "      <th>...</th>\n",
       "      <td>...</td>\n",
       "      <td>...</td>\n",
       "      <td>...</td>\n",
       "      <td>...</td>\n",
       "    </tr>\n",
       "    <tr>\n",
       "      <th>330</th>\n",
       "      <td>سیروس</td>\n",
       "      <td>1325000000</td>\n",
       "      <td>2020000000</td>\n",
       "      <td>52.45</td>\n",
       "    </tr>\n",
       "    <tr>\n",
       "      <th>331</th>\n",
       "      <td>شهرک غزالی</td>\n",
       "      <td>2327000000</td>\n",
       "      <td>3150000000</td>\n",
       "      <td>35.37</td>\n",
       "    </tr>\n",
       "    <tr>\n",
       "      <th>332</th>\n",
       "      <td>چیتگر</td>\n",
       "      <td>2100000000</td>\n",
       "      <td>2570000000</td>\n",
       "      <td>22.38</td>\n",
       "    </tr>\n",
       "    <tr>\n",
       "      <th>333</th>\n",
       "      <td>حصار بوعلی</td>\n",
       "      <td>37000000000</td>\n",
       "      <td>32000000000</td>\n",
       "      <td>-13.51</td>\n",
       "    </tr>\n",
       "    <tr>\n",
       "      <th>334</th>\n",
       "      <td>سرخه حصار</td>\n",
       "      <td>8500000000</td>\n",
       "      <td>3850000000</td>\n",
       "      <td>-54.71</td>\n",
       "    </tr>\n",
       "  </tbody>\n",
       "</table>\n",
       "<p>335 rows × 4 columns</p>\n",
       "</div>"
      ],
      "text/plain": [
       "           address  median_price_2021  median_price_2023  price_growth\n",
       "0         حسن‌آباد          480000000         3425000000        613.54\n",
       "1    شهرک پاسداران         2129600000        15160000000        611.87\n",
       "2        شهرک گلها         1450000000         9950000000        586.21\n",
       "3         ملک‌آباد          677500000         3875000000        471.96\n",
       "4      شهرک مسلمین          737500000         3950000000        435.59\n",
       "..             ...                ...                ...           ...\n",
       "330          سیروس         1325000000         2020000000         52.45\n",
       "331     شهرک غزالی         2327000000         3150000000         35.37\n",
       "332          چیتگر         2100000000         2570000000         22.38\n",
       "333     حصار بوعلی        37000000000        32000000000        -13.51\n",
       "334      سرخه حصار         8500000000         3850000000        -54.71\n",
       "\n",
       "[335 rows x 4 columns]"
      ]
     },
     "execution_count": 37,
     "metadata": {},
     "output_type": "execute_result"
    }
   ],
   "source": [
    "merge_dataset_sorted"
   ]
  },
  {
   "cell_type": "code",
   "execution_count": 38,
   "metadata": {},
   "outputs": [],
   "source": [
    "top_10 = merge_dataset_sorted.head(10).set_index('address')"
   ]
  },
  {
   "cell_type": "code",
   "execution_count": 39,
   "metadata": {},
   "outputs": [
    {
     "data": {
      "text/html": [
       "<div>\n",
       "<style scoped>\n",
       "    .dataframe tbody tr th:only-of-type {\n",
       "        vertical-align: middle;\n",
       "    }\n",
       "\n",
       "    .dataframe tbody tr th {\n",
       "        vertical-align: top;\n",
       "    }\n",
       "\n",
       "    .dataframe thead th {\n",
       "        text-align: right;\n",
       "    }\n",
       "</style>\n",
       "<table border=\"1\" class=\"dataframe\">\n",
       "  <thead>\n",
       "    <tr style=\"text-align: right;\">\n",
       "      <th></th>\n",
       "      <th>median_price_2021</th>\n",
       "      <th>median_price_2023</th>\n",
       "      <th>price_growth</th>\n",
       "    </tr>\n",
       "    <tr>\n",
       "      <th>address</th>\n",
       "      <th></th>\n",
       "      <th></th>\n",
       "      <th></th>\n",
       "    </tr>\n",
       "  </thead>\n",
       "  <tbody>\n",
       "    <tr>\n",
       "      <th>حسن‌آباد</th>\n",
       "      <td>480000000</td>\n",
       "      <td>3425000000</td>\n",
       "      <td>613.54</td>\n",
       "    </tr>\n",
       "    <tr>\n",
       "      <th>شهرک پاسداران</th>\n",
       "      <td>2129600000</td>\n",
       "      <td>15160000000</td>\n",
       "      <td>611.87</td>\n",
       "    </tr>\n",
       "    <tr>\n",
       "      <th>شهرک گلها</th>\n",
       "      <td>1450000000</td>\n",
       "      <td>9950000000</td>\n",
       "      <td>586.21</td>\n",
       "    </tr>\n",
       "    <tr>\n",
       "      <th>ملک‌آباد</th>\n",
       "      <td>677500000</td>\n",
       "      <td>3875000000</td>\n",
       "      <td>471.96</td>\n",
       "    </tr>\n",
       "    <tr>\n",
       "      <th>شهرک مسلمین</th>\n",
       "      <td>737500000</td>\n",
       "      <td>3950000000</td>\n",
       "      <td>435.59</td>\n",
       "    </tr>\n",
       "    <tr>\n",
       "      <th>مرادآباد</th>\n",
       "      <td>2680000000</td>\n",
       "      <td>12825000000</td>\n",
       "      <td>378.54</td>\n",
       "    </tr>\n",
       "    <tr>\n",
       "      <th>ایران</th>\n",
       "      <td>1974999999</td>\n",
       "      <td>9000000000</td>\n",
       "      <td>355.70</td>\n",
       "    </tr>\n",
       "    <tr>\n",
       "      <th>پامنار</th>\n",
       "      <td>645000000</td>\n",
       "      <td>2800000000</td>\n",
       "      <td>334.11</td>\n",
       "    </tr>\n",
       "    <tr>\n",
       "      <th>شهادت</th>\n",
       "      <td>975000000</td>\n",
       "      <td>4100000004</td>\n",
       "      <td>320.51</td>\n",
       "    </tr>\n",
       "    <tr>\n",
       "      <th>حصارک</th>\n",
       "      <td>950000000</td>\n",
       "      <td>3950000008</td>\n",
       "      <td>315.79</td>\n",
       "    </tr>\n",
       "  </tbody>\n",
       "</table>\n",
       "</div>"
      ],
      "text/plain": [
       "               median_price_2021  median_price_2023  price_growth\n",
       "address                                                          \n",
       "حسن‌آباد               480000000         3425000000        613.54\n",
       "شهرک پاسداران         2129600000        15160000000        611.87\n",
       "شهرک گلها             1450000000         9950000000        586.21\n",
       "ملک‌آباد               677500000         3875000000        471.96\n",
       "شهرک مسلمین            737500000         3950000000        435.59\n",
       "مرادآباد              2680000000        12825000000        378.54\n",
       "ایران                 1974999999         9000000000        355.70\n",
       "پامنار                 645000000         2800000000        334.11\n",
       "شهادت                  975000000         4100000004        320.51\n",
       "حصارک                  950000000         3950000008        315.79"
      ]
     },
     "execution_count": 39,
     "metadata": {},
     "output_type": "execute_result"
    }
   ],
   "source": [
    "top_10"
   ]
  },
  {
   "cell_type": "markdown",
   "metadata": {},
   "source": [
    "As it is known, we see the first 10 regions of Tehran with the highest growth rate"
   ]
  },
  {
   "cell_type": "code",
   "execution_count": 40,
   "metadata": {},
   "outputs": [],
   "source": [
    "address_list = top_10.index.to_list()\n",
    "persian_labels = [get_display(reshape(label)) for label in address_list]\n"
   ]
  },
  {
   "cell_type": "code",
   "execution_count": 420,
   "metadata": {},
   "outputs": [
    {
     "data": {
      "application/vnd.plotly.v1+json": {
       "config": {
        "plotlyServerURL": "https://plot.ly"
       },
       "data": [
        {
         "line": {
          "color": "red"
         },
         "mode": "lines+markers",
         "name": "2021 Price",
         "type": "scatter",
         "x": [
          "حسن‌آباد",
          "شهرک پاسداران",
          "شهرک گلها",
          "ملک‌آباد",
          "شهرک مسلمین",
          "مرادآباد",
          "ایران",
          "پامنار",
          "شهادت",
          "حصارک"
         ],
         "y": [
          480000000,
          2129600000,
          1450000000,
          677500000,
          737500000,
          2680000000,
          1974999999,
          645000000,
          975000000,
          950000000
         ]
        },
        {
         "line": {
          "color": "blue"
         },
         "mode": "lines+markers",
         "name": "2023 Price",
         "type": "scatter",
         "x": [
          "حسن‌آباد",
          "شهرک پاسداران",
          "شهرک گلها",
          "ملک‌آباد",
          "شهرک مسلمین",
          "مرادآباد",
          "ایران",
          "پامنار",
          "شهادت",
          "حصارک"
         ],
         "y": [
          3425000000,
          15160000000,
          9950000000,
          3875000000,
          3950000000,
          12825000000,
          9000000000,
          2800000000,
          4100000004,
          3950000008
         ]
        }
       ],
       "layout": {
        "height": 500,
        "legend": {
         "title": {
          "text": "Year"
         }
        },
        "template": {
         "data": {
          "bar": [
           {
            "error_x": {
             "color": "#2a3f5f"
            },
            "error_y": {
             "color": "#2a3f5f"
            },
            "marker": {
             "line": {
              "color": "#E5ECF6",
              "width": 0.5
             },
             "pattern": {
              "fillmode": "overlay",
              "size": 10,
              "solidity": 0.2
             }
            },
            "type": "bar"
           }
          ],
          "barpolar": [
           {
            "marker": {
             "line": {
              "color": "#E5ECF6",
              "width": 0.5
             },
             "pattern": {
              "fillmode": "overlay",
              "size": 10,
              "solidity": 0.2
             }
            },
            "type": "barpolar"
           }
          ],
          "carpet": [
           {
            "aaxis": {
             "endlinecolor": "#2a3f5f",
             "gridcolor": "white",
             "linecolor": "white",
             "minorgridcolor": "white",
             "startlinecolor": "#2a3f5f"
            },
            "baxis": {
             "endlinecolor": "#2a3f5f",
             "gridcolor": "white",
             "linecolor": "white",
             "minorgridcolor": "white",
             "startlinecolor": "#2a3f5f"
            },
            "type": "carpet"
           }
          ],
          "choropleth": [
           {
            "colorbar": {
             "outlinewidth": 0,
             "ticks": ""
            },
            "type": "choropleth"
           }
          ],
          "contour": [
           {
            "colorbar": {
             "outlinewidth": 0,
             "ticks": ""
            },
            "colorscale": [
             [
              0,
              "#0d0887"
             ],
             [
              0.1111111111111111,
              "#46039f"
             ],
             [
              0.2222222222222222,
              "#7201a8"
             ],
             [
              0.3333333333333333,
              "#9c179e"
             ],
             [
              0.4444444444444444,
              "#bd3786"
             ],
             [
              0.5555555555555556,
              "#d8576b"
             ],
             [
              0.6666666666666666,
              "#ed7953"
             ],
             [
              0.7777777777777778,
              "#fb9f3a"
             ],
             [
              0.8888888888888888,
              "#fdca26"
             ],
             [
              1,
              "#f0f921"
             ]
            ],
            "type": "contour"
           }
          ],
          "contourcarpet": [
           {
            "colorbar": {
             "outlinewidth": 0,
             "ticks": ""
            },
            "type": "contourcarpet"
           }
          ],
          "heatmap": [
           {
            "colorbar": {
             "outlinewidth": 0,
             "ticks": ""
            },
            "colorscale": [
             [
              0,
              "#0d0887"
             ],
             [
              0.1111111111111111,
              "#46039f"
             ],
             [
              0.2222222222222222,
              "#7201a8"
             ],
             [
              0.3333333333333333,
              "#9c179e"
             ],
             [
              0.4444444444444444,
              "#bd3786"
             ],
             [
              0.5555555555555556,
              "#d8576b"
             ],
             [
              0.6666666666666666,
              "#ed7953"
             ],
             [
              0.7777777777777778,
              "#fb9f3a"
             ],
             [
              0.8888888888888888,
              "#fdca26"
             ],
             [
              1,
              "#f0f921"
             ]
            ],
            "type": "heatmap"
           }
          ],
          "heatmapgl": [
           {
            "colorbar": {
             "outlinewidth": 0,
             "ticks": ""
            },
            "colorscale": [
             [
              0,
              "#0d0887"
             ],
             [
              0.1111111111111111,
              "#46039f"
             ],
             [
              0.2222222222222222,
              "#7201a8"
             ],
             [
              0.3333333333333333,
              "#9c179e"
             ],
             [
              0.4444444444444444,
              "#bd3786"
             ],
             [
              0.5555555555555556,
              "#d8576b"
             ],
             [
              0.6666666666666666,
              "#ed7953"
             ],
             [
              0.7777777777777778,
              "#fb9f3a"
             ],
             [
              0.8888888888888888,
              "#fdca26"
             ],
             [
              1,
              "#f0f921"
             ]
            ],
            "type": "heatmapgl"
           }
          ],
          "histogram": [
           {
            "marker": {
             "pattern": {
              "fillmode": "overlay",
              "size": 10,
              "solidity": 0.2
             }
            },
            "type": "histogram"
           }
          ],
          "histogram2d": [
           {
            "colorbar": {
             "outlinewidth": 0,
             "ticks": ""
            },
            "colorscale": [
             [
              0,
              "#0d0887"
             ],
             [
              0.1111111111111111,
              "#46039f"
             ],
             [
              0.2222222222222222,
              "#7201a8"
             ],
             [
              0.3333333333333333,
              "#9c179e"
             ],
             [
              0.4444444444444444,
              "#bd3786"
             ],
             [
              0.5555555555555556,
              "#d8576b"
             ],
             [
              0.6666666666666666,
              "#ed7953"
             ],
             [
              0.7777777777777778,
              "#fb9f3a"
             ],
             [
              0.8888888888888888,
              "#fdca26"
             ],
             [
              1,
              "#f0f921"
             ]
            ],
            "type": "histogram2d"
           }
          ],
          "histogram2dcontour": [
           {
            "colorbar": {
             "outlinewidth": 0,
             "ticks": ""
            },
            "colorscale": [
             [
              0,
              "#0d0887"
             ],
             [
              0.1111111111111111,
              "#46039f"
             ],
             [
              0.2222222222222222,
              "#7201a8"
             ],
             [
              0.3333333333333333,
              "#9c179e"
             ],
             [
              0.4444444444444444,
              "#bd3786"
             ],
             [
              0.5555555555555556,
              "#d8576b"
             ],
             [
              0.6666666666666666,
              "#ed7953"
             ],
             [
              0.7777777777777778,
              "#fb9f3a"
             ],
             [
              0.8888888888888888,
              "#fdca26"
             ],
             [
              1,
              "#f0f921"
             ]
            ],
            "type": "histogram2dcontour"
           }
          ],
          "mesh3d": [
           {
            "colorbar": {
             "outlinewidth": 0,
             "ticks": ""
            },
            "type": "mesh3d"
           }
          ],
          "parcoords": [
           {
            "line": {
             "colorbar": {
              "outlinewidth": 0,
              "ticks": ""
             }
            },
            "type": "parcoords"
           }
          ],
          "pie": [
           {
            "automargin": true,
            "type": "pie"
           }
          ],
          "scatter": [
           {
            "fillpattern": {
             "fillmode": "overlay",
             "size": 10,
             "solidity": 0.2
            },
            "type": "scatter"
           }
          ],
          "scatter3d": [
           {
            "line": {
             "colorbar": {
              "outlinewidth": 0,
              "ticks": ""
             }
            },
            "marker": {
             "colorbar": {
              "outlinewidth": 0,
              "ticks": ""
             }
            },
            "type": "scatter3d"
           }
          ],
          "scattercarpet": [
           {
            "marker": {
             "colorbar": {
              "outlinewidth": 0,
              "ticks": ""
             }
            },
            "type": "scattercarpet"
           }
          ],
          "scattergeo": [
           {
            "marker": {
             "colorbar": {
              "outlinewidth": 0,
              "ticks": ""
             }
            },
            "type": "scattergeo"
           }
          ],
          "scattergl": [
           {
            "marker": {
             "colorbar": {
              "outlinewidth": 0,
              "ticks": ""
             }
            },
            "type": "scattergl"
           }
          ],
          "scattermapbox": [
           {
            "marker": {
             "colorbar": {
              "outlinewidth": 0,
              "ticks": ""
             }
            },
            "type": "scattermapbox"
           }
          ],
          "scatterpolar": [
           {
            "marker": {
             "colorbar": {
              "outlinewidth": 0,
              "ticks": ""
             }
            },
            "type": "scatterpolar"
           }
          ],
          "scatterpolargl": [
           {
            "marker": {
             "colorbar": {
              "outlinewidth": 0,
              "ticks": ""
             }
            },
            "type": "scatterpolargl"
           }
          ],
          "scatterternary": [
           {
            "marker": {
             "colorbar": {
              "outlinewidth": 0,
              "ticks": ""
             }
            },
            "type": "scatterternary"
           }
          ],
          "surface": [
           {
            "colorbar": {
             "outlinewidth": 0,
             "ticks": ""
            },
            "colorscale": [
             [
              0,
              "#0d0887"
             ],
             [
              0.1111111111111111,
              "#46039f"
             ],
             [
              0.2222222222222222,
              "#7201a8"
             ],
             [
              0.3333333333333333,
              "#9c179e"
             ],
             [
              0.4444444444444444,
              "#bd3786"
             ],
             [
              0.5555555555555556,
              "#d8576b"
             ],
             [
              0.6666666666666666,
              "#ed7953"
             ],
             [
              0.7777777777777778,
              "#fb9f3a"
             ],
             [
              0.8888888888888888,
              "#fdca26"
             ],
             [
              1,
              "#f0f921"
             ]
            ],
            "type": "surface"
           }
          ],
          "table": [
           {
            "cells": {
             "fill": {
              "color": "#EBF0F8"
             },
             "line": {
              "color": "white"
             }
            },
            "header": {
             "fill": {
              "color": "#C8D4E3"
             },
             "line": {
              "color": "white"
             }
            },
            "type": "table"
           }
          ]
         },
         "layout": {
          "annotationdefaults": {
           "arrowcolor": "#2a3f5f",
           "arrowhead": 0,
           "arrowwidth": 1
          },
          "autotypenumbers": "strict",
          "coloraxis": {
           "colorbar": {
            "outlinewidth": 0,
            "ticks": ""
           }
          },
          "colorscale": {
           "diverging": [
            [
             0,
             "#8e0152"
            ],
            [
             0.1,
             "#c51b7d"
            ],
            [
             0.2,
             "#de77ae"
            ],
            [
             0.3,
             "#f1b6da"
            ],
            [
             0.4,
             "#fde0ef"
            ],
            [
             0.5,
             "#f7f7f7"
            ],
            [
             0.6,
             "#e6f5d0"
            ],
            [
             0.7,
             "#b8e186"
            ],
            [
             0.8,
             "#7fbc41"
            ],
            [
             0.9,
             "#4d9221"
            ],
            [
             1,
             "#276419"
            ]
           ],
           "sequential": [
            [
             0,
             "#0d0887"
            ],
            [
             0.1111111111111111,
             "#46039f"
            ],
            [
             0.2222222222222222,
             "#7201a8"
            ],
            [
             0.3333333333333333,
             "#9c179e"
            ],
            [
             0.4444444444444444,
             "#bd3786"
            ],
            [
             0.5555555555555556,
             "#d8576b"
            ],
            [
             0.6666666666666666,
             "#ed7953"
            ],
            [
             0.7777777777777778,
             "#fb9f3a"
            ],
            [
             0.8888888888888888,
             "#fdca26"
            ],
            [
             1,
             "#f0f921"
            ]
           ],
           "sequentialminus": [
            [
             0,
             "#0d0887"
            ],
            [
             0.1111111111111111,
             "#46039f"
            ],
            [
             0.2222222222222222,
             "#7201a8"
            ],
            [
             0.3333333333333333,
             "#9c179e"
            ],
            [
             0.4444444444444444,
             "#bd3786"
            ],
            [
             0.5555555555555556,
             "#d8576b"
            ],
            [
             0.6666666666666666,
             "#ed7953"
            ],
            [
             0.7777777777777778,
             "#fb9f3a"
            ],
            [
             0.8888888888888888,
             "#fdca26"
            ],
            [
             1,
             "#f0f921"
            ]
           ]
          },
          "colorway": [
           "#636efa",
           "#EF553B",
           "#00cc96",
           "#ab63fa",
           "#FFA15A",
           "#19d3f3",
           "#FF6692",
           "#B6E880",
           "#FF97FF",
           "#FECB52"
          ],
          "font": {
           "color": "#2a3f5f"
          },
          "geo": {
           "bgcolor": "white",
           "lakecolor": "white",
           "landcolor": "#E5ECF6",
           "showlakes": true,
           "showland": true,
           "subunitcolor": "white"
          },
          "hoverlabel": {
           "align": "left"
          },
          "hovermode": "closest",
          "mapbox": {
           "style": "light"
          },
          "paper_bgcolor": "white",
          "plot_bgcolor": "#E5ECF6",
          "polar": {
           "angularaxis": {
            "gridcolor": "white",
            "linecolor": "white",
            "ticks": ""
           },
           "bgcolor": "#E5ECF6",
           "radialaxis": {
            "gridcolor": "white",
            "linecolor": "white",
            "ticks": ""
           }
          },
          "scene": {
           "xaxis": {
            "backgroundcolor": "#E5ECF6",
            "gridcolor": "white",
            "gridwidth": 2,
            "linecolor": "white",
            "showbackground": true,
            "ticks": "",
            "zerolinecolor": "white"
           },
           "yaxis": {
            "backgroundcolor": "#E5ECF6",
            "gridcolor": "white",
            "gridwidth": 2,
            "linecolor": "white",
            "showbackground": true,
            "ticks": "",
            "zerolinecolor": "white"
           },
           "zaxis": {
            "backgroundcolor": "#E5ECF6",
            "gridcolor": "white",
            "gridwidth": 2,
            "linecolor": "white",
            "showbackground": true,
            "ticks": "",
            "zerolinecolor": "white"
           }
          },
          "shapedefaults": {
           "line": {
            "color": "#2a3f5f"
           }
          },
          "ternary": {
           "aaxis": {
            "gridcolor": "white",
            "linecolor": "white",
            "ticks": ""
           },
           "baxis": {
            "gridcolor": "white",
            "linecolor": "white",
            "ticks": ""
           },
           "bgcolor": "#E5ECF6",
           "caxis": {
            "gridcolor": "white",
            "linecolor": "white",
            "ticks": ""
           }
          },
          "title": {
           "x": 0.05
          },
          "xaxis": {
           "automargin": true,
           "gridcolor": "white",
           "linecolor": "white",
           "ticks": "",
           "title": {
            "standoff": 15
           },
           "zerolinecolor": "white",
           "zerolinewidth": 2
          },
          "yaxis": {
           "automargin": true,
           "gridcolor": "white",
           "linecolor": "white",
           "ticks": "",
           "title": {
            "standoff": 15
           },
           "zerolinecolor": "white",
           "zerolinewidth": 2
          }
         }
        },
        "title": {
         "text": "Median Prices in Different Neighborhoods (2021 vs 2023)"
        },
        "width": 1200,
        "xaxis": {
         "tickmode": "array",
         "tickvals": [
          "حسن‌آباد",
          "شهرک پاسداران",
          "شهرک گلها",
          "ملک‌آباد",
          "شهرک مسلمین",
          "مرادآباد",
          "ایران",
          "پامنار",
          "شهادت",
          "حصارک"
         ],
         "title": {
          "text": "Neighborhoods"
         }
        },
        "yaxis": {
         "title": {
          "text": "Median Price (Toman)"
         }
        }
       }
      }
     },
     "metadata": {},
     "output_type": "display_data"
    }
   ],
   "source": [
    "import plotly.graph_objects as go\n",
    "\n",
    "# Create a line plot\n",
    "fig = go.Figure()\n",
    "\n",
    "# Add 2021 price line\n",
    "fig.add_trace(go.Scatter(\n",
    "    x=top_10.index,\n",
    "    y=top_10['median_price_2021'],\n",
    "    mode='lines+markers',\n",
    "    name='2021 Price',\n",
    "    line=dict(color='red')\n",
    "))\n",
    "\n",
    "# Add 2023 price line\n",
    "fig.add_trace(go.Scatter(\n",
    "    x=top_10.index,\n",
    "    y=top_10['median_price_2023'],\n",
    "    mode='lines+markers',\n",
    "    name='2023 Price',\n",
    "    line=dict(color='blue')\n",
    "))\n",
    "\n",
    "# Update layout\n",
    "fig.update_layout(\n",
    "    title='Median Prices in Different Neighborhoods (2021 vs 2023)',\n",
    "    xaxis_title='Neighborhoods',\n",
    "    yaxis_title='Median Price (Toman)',\n",
    "    legend_title='Year',\n",
    "    xaxis=dict(tickmode='array', tickvals=top_10.index),\n",
    "    width=1200,\n",
    "    height=500\n",
    ")\n",
    "\n",
    "# Show the plot\n",
    "fig.show()"
   ]
  },
  {
   "cell_type": "markdown",
   "metadata": {},
   "source": [
    "### With different budgets, in which areas is it better to make purchases in order to earn more profit."
   ]
  },
  {
   "cell_type": "code",
   "execution_count": 42,
   "metadata": {},
   "outputs": [],
   "source": [
    "budget_merge_dataset = merge_dataset.copy()"
   ]
  },
  {
   "cell_type": "markdown",
   "metadata": {},
   "source": [
    "We make for categories budget to compare"
   ]
  },
  {
   "cell_type": "code",
   "execution_count": 43,
   "metadata": {},
   "outputs": [
    {
     "data": {
      "text/plain": [
       "0       (1058600000.0, 11450000000.0]\n",
       "1       (1058600000.0, 11450000000.0]\n",
       "2      (21800000000.0, 32150000000.0]\n",
       "3       (1058600000.0, 11450000000.0]\n",
       "4       (1058600000.0, 11450000000.0]\n",
       "                    ...              \n",
       "330     (1058600000.0, 11450000000.0]\n",
       "331    (11450000000.0, 21800000000.0]\n",
       "332     (1058600000.0, 11450000000.0]\n",
       "333     (1058600000.0, 11450000000.0]\n",
       "334    (11450000000.0, 21800000000.0]\n",
       "Name: median_price_2023, Length: 335, dtype: category\n",
       "Categories (4, interval[float64, right]): [(1058600000.0, 11450000000.0] < (11450000000.0, 21800000000.0] < (21800000000.0, 32150000000.0] < (32150000000.0, 42500000000.0]]"
      ]
     },
     "execution_count": 43,
     "metadata": {},
     "output_type": "execute_result"
    }
   ],
   "source": [
    "pd.cut(budget_merge_dataset['median_price_2023'],4)"
   ]
  },
  {
   "cell_type": "code",
   "execution_count": 44,
   "metadata": {},
   "outputs": [],
   "source": [
    "# label 4 categories based on budget\n",
    "budget_merge_dataset['budget_category'] = pd.cut(budget_merge_dataset['median_price_2023'],4,labels=['low','medium','high','very high'])"
   ]
  },
  {
   "cell_type": "code",
   "execution_count": 45,
   "metadata": {},
   "outputs": [],
   "source": [
    "budget_merge_dataset = budget_merge_dataset.sort_values(by='price_growth',ascending=False).reset_index().drop(columns=['index'])"
   ]
  },
  {
   "cell_type": "code",
   "execution_count": 46,
   "metadata": {},
   "outputs": [],
   "source": [
    "low_budget = budget_merge_dataset[budget_merge_dataset['budget_category'] == 'low']\n",
    "medium_budget = budget_merge_dataset[budget_merge_dataset['budget_category'] == 'medium']\n",
    "high_budget = budget_merge_dataset[budget_merge_dataset['budget_category'] == 'high']\n",
    "very_high_budget = budget_merge_dataset[budget_merge_dataset['budget_category'] == 'very high']"
   ]
  },
  {
   "cell_type": "code",
   "execution_count": 47,
   "metadata": {},
   "outputs": [
    {
     "data": {
      "text/html": [
       "<div>\n",
       "<style scoped>\n",
       "    .dataframe tbody tr th:only-of-type {\n",
       "        vertical-align: middle;\n",
       "    }\n",
       "\n",
       "    .dataframe tbody tr th {\n",
       "        vertical-align: top;\n",
       "    }\n",
       "\n",
       "    .dataframe thead th {\n",
       "        text-align: right;\n",
       "    }\n",
       "</style>\n",
       "<table border=\"1\" class=\"dataframe\">\n",
       "  <thead>\n",
       "    <tr style=\"text-align: right;\">\n",
       "      <th></th>\n",
       "      <th>address</th>\n",
       "      <th>median_price_2021</th>\n",
       "      <th>median_price_2023</th>\n",
       "      <th>price_growth</th>\n",
       "      <th>budget_category</th>\n",
       "    </tr>\n",
       "  </thead>\n",
       "  <tbody>\n",
       "    <tr>\n",
       "      <th>0</th>\n",
       "      <td>حسن‌آباد</td>\n",
       "      <td>480000000</td>\n",
       "      <td>3425000000</td>\n",
       "      <td>613.54</td>\n",
       "      <td>low</td>\n",
       "    </tr>\n",
       "    <tr>\n",
       "      <th>2</th>\n",
       "      <td>شهرک گلها</td>\n",
       "      <td>1450000000</td>\n",
       "      <td>9950000000</td>\n",
       "      <td>586.21</td>\n",
       "      <td>low</td>\n",
       "    </tr>\n",
       "    <tr>\n",
       "      <th>3</th>\n",
       "      <td>ملک‌آباد</td>\n",
       "      <td>677500000</td>\n",
       "      <td>3875000000</td>\n",
       "      <td>471.96</td>\n",
       "      <td>low</td>\n",
       "    </tr>\n",
       "    <tr>\n",
       "      <th>4</th>\n",
       "      <td>شهرک مسلمین</td>\n",
       "      <td>737500000</td>\n",
       "      <td>3950000000</td>\n",
       "      <td>435.59</td>\n",
       "      <td>low</td>\n",
       "    </tr>\n",
       "    <tr>\n",
       "      <th>6</th>\n",
       "      <td>ایران</td>\n",
       "      <td>1974999999</td>\n",
       "      <td>9000000000</td>\n",
       "      <td>355.70</td>\n",
       "      <td>low</td>\n",
       "    </tr>\n",
       "    <tr>\n",
       "      <th>7</th>\n",
       "      <td>پامنار</td>\n",
       "      <td>645000000</td>\n",
       "      <td>2800000000</td>\n",
       "      <td>334.11</td>\n",
       "      <td>low</td>\n",
       "    </tr>\n",
       "    <tr>\n",
       "      <th>8</th>\n",
       "      <td>شهادت</td>\n",
       "      <td>975000000</td>\n",
       "      <td>4100000004</td>\n",
       "      <td>320.51</td>\n",
       "      <td>low</td>\n",
       "    </tr>\n",
       "    <tr>\n",
       "      <th>9</th>\n",
       "      <td>حصارک</td>\n",
       "      <td>950000000</td>\n",
       "      <td>3950000008</td>\n",
       "      <td>315.79</td>\n",
       "      <td>low</td>\n",
       "    </tr>\n",
       "    <tr>\n",
       "      <th>10</th>\n",
       "      <td>ابن بابویه</td>\n",
       "      <td>917500000</td>\n",
       "      <td>3700000000</td>\n",
       "      <td>303.27</td>\n",
       "      <td>low</td>\n",
       "    </tr>\n",
       "  </tbody>\n",
       "</table>\n",
       "</div>"
      ],
      "text/plain": [
       "        address  median_price_2021  median_price_2023  price_growth  \\\n",
       "0      حسن‌آباد          480000000         3425000000        613.54   \n",
       "2     شهرک گلها         1450000000         9950000000        586.21   \n",
       "3      ملک‌آباد          677500000         3875000000        471.96   \n",
       "4   شهرک مسلمین          737500000         3950000000        435.59   \n",
       "6         ایران         1974999999         9000000000        355.70   \n",
       "7        پامنار          645000000         2800000000        334.11   \n",
       "8         شهادت          975000000         4100000004        320.51   \n",
       "9         حصارک          950000000         3950000008        315.79   \n",
       "10   ابن بابویه          917500000         3700000000        303.27   \n",
       "\n",
       "   budget_category  \n",
       "0              low  \n",
       "2              low  \n",
       "3              low  \n",
       "4              low  \n",
       "6              low  \n",
       "7              low  \n",
       "8              low  \n",
       "9              low  \n",
       "10             low  "
      ]
     },
     "execution_count": 47,
     "metadata": {},
     "output_type": "execute_result"
    }
   ],
   "source": [
    "low_budget.head(9)"
   ]
  },
  {
   "cell_type": "code",
   "execution_count": 48,
   "metadata": {},
   "outputs": [],
   "source": [
    "address_list = low_budget['address'].head(10).to_list()\n",
    "persian_labels = [get_display(reshape(label)) for label in address_list]"
   ]
  },
  {
   "cell_type": "markdown",
   "metadata": {},
   "source": [
    "The best areas to buy a house with a **low** budget that give the most profit:"
   ]
  },
  {
   "cell_type": "code",
   "execution_count": 49,
   "metadata": {},
   "outputs": [
    {
     "data": {
      "image/png": "[encoded data removed]",
      "text/plain": [
       "<Figure size 1000x600 with 1 Axes>"
      ]
     },
     "metadata": {},
     "output_type": "display_data"
    }
   ],
   "source": [
    "plt.figure(figsize=(10,6))\n",
    "sns.scatterplot(low_budget.head(10),x=persian_labels,y='price_growth')\n",
    "plt.title(\n",
    "    'The best choice for less than 11.45 bilion Toman'\n",
    ")\n",
    "plt.show()"
   ]
  },
  {
   "cell_type": "code",
   "execution_count": 50,
   "metadata": {},
   "outputs": [],
   "source": [
    "address_list = medium_budget['address'].head(10).to_list()\n",
    "persian_labels = [get_display(reshape(label)) for label in address_list]"
   ]
  },
  {
   "cell_type": "markdown",
   "metadata": {},
   "source": [
    "The best areas to buy a house with a **medium** budget that give the most profit"
   ]
  },
  {
   "cell_type": "code",
   "execution_count": 51,
   "metadata": {},
   "outputs": [
    {
     "data": {
      "image/png": "[encoded data removed]",
      "text/plain": [
       "<Figure size 1000x600 with 1 Axes>"
      ]
     },
     "metadata": {},
     "output_type": "display_data"
    }
   ],
   "source": [
    "plt.figure(figsize=(10,6))\n",
    "sns.scatterplot(medium_budget.head(10),x=persian_labels,y='price_growth')\n",
    "plt.title(\n",
    "    'The best choice for between 11.45 and 21.8 bilion Toman'\n",
    ")\n",
    "plt.show()"
   ]
  },
  {
   "cell_type": "code",
   "execution_count": 52,
   "metadata": {},
   "outputs": [],
   "source": [
    "address_list = high_budget['address'].head().to_list()\n",
    "persian_labels = [get_display(reshape(label)) for label in address_list]"
   ]
  },
  {
   "cell_type": "markdown",
   "metadata": {},
   "source": [
    "The best areas to buy a house with a **high** budget that give the most profit:"
   ]
  },
  {
   "cell_type": "code",
   "execution_count": 53,
   "metadata": {},
   "outputs": [
    {
     "data": {
      "image/png": "[encoded data removed]",
      "text/plain": [
       "<Figure size 1000x600 with 1 Axes>"
      ]
     },
     "metadata": {},
     "output_type": "display_data"
    }
   ],
   "source": [
    "plt.figure(figsize=(10,6))\n",
    "sns.scatterplot(high_budget.head(),x=persian_labels,y='price_growth')\n",
    "plt.title(\n",
    "    'The best choice for between 21.8 and 32.15 bilion Toman'\n",
    ")\n",
    "plt.show()"
   ]
  },
  {
   "cell_type": "code",
   "execution_count": 54,
   "metadata": {},
   "outputs": [],
   "source": [
    "address_list = very_high_budget['address'].head().to_list()\n",
    "persian_labels = [get_display(reshape(label)) for label in address_list]"
   ]
  },
  {
   "cell_type": "markdown",
   "metadata": {},
   "source": [
    "The best areas to buy a house with a **very high** budget that give the most profit:"
   ]
  },
  {
   "cell_type": "code",
   "execution_count": 55,
   "metadata": {},
   "outputs": [
    {
     "data": {
      "image/png": "[encoded data removed]",
      "text/plain": [
       "<Figure size 1000x600 with 1 Axes>"
      ]
     },
     "metadata": {},
     "output_type": "display_data"
    }
   ],
   "source": [
    "plt.figure(figsize=(10,6))\n",
    "sns.scatterplot(very_high_budget.head(),x=persian_labels,y='price_growth')\n",
    "plt.title(\n",
    "    'The best choice for between 32.15 and 42.5 bilion Toman'\n",
    ")\n",
    "plt.show()"
   ]
  },
  {
   "cell_type": "markdown",
   "metadata": {},
   "source": [
    "### Regions with the highest number of ads in different years"
   ]
  },
  {
   "cell_type": "code",
   "execution_count": 41,
   "metadata": {},
   "outputs": [],
   "source": [
    "housing_data = housing_data.reset_index().rename(columns={'index':'id'})\n",
    "divar_2023 = divar_2023.reset_index().rename(columns={'index':'id'})"
   ]
  },
  {
   "cell_type": "code",
   "execution_count": 42,
   "metadata": {},
   "outputs": [],
   "source": [
    "states_most_adv_2021 = housing_data.groupby('address')['id'].count()\n",
    "states_most_adv_2023 = divar_2023.groupby('address')['id'].count()"
   ]
  },
  {
   "cell_type": "code",
   "execution_count": 43,
   "metadata": {},
   "outputs": [],
   "source": [
    "states_most_adv_2021 = pd.DataFrame(states_most_adv_2021).rename(columns={'id':'adv'}).reset_index()\n",
    "states_most_adv_2023 = pd.DataFrame(states_most_adv_2023).rename(columns={'id':'adv'}).reset_index()"
   ]
  },
  {
   "cell_type": "code",
   "execution_count": 44,
   "metadata": {},
   "outputs": [],
   "source": [
    "states_most_adv_2021.sort_values(by='adv',ascending=False,inplace=True)\n",
    "states_most_adv_2023.sort_values(by='adv',ascending=False,inplace=True)"
   ]
  },
  {
   "cell_type": "code",
   "execution_count": 45,
   "metadata": {},
   "outputs": [],
   "source": [
    "top_10_adv_2021 = states_most_adv_2021.head(10).reset_index().drop(columns='index')\n",
    "top_10_adv_2023 = states_most_adv_2023.head(10).reset_index().drop(columns='index')"
   ]
  },
  {
   "cell_type": "markdown",
   "metadata": {},
   "source": [
    "In the following, I see the areas with the largest number of ads.\n",
    "Of course, we will display the first ten regions with the largest number of ads for 2023 and 2021"
   ]
  },
  {
   "cell_type": "code",
   "execution_count": 46,
   "metadata": {},
   "outputs": [
    {
     "data": {
      "text/html": [
       "<div>\n",
       "<style scoped>\n",
       "    .dataframe tbody tr th:only-of-type {\n",
       "        vertical-align: middle;\n",
       "    }\n",
       "\n",
       "    .dataframe tbody tr th {\n",
       "        vertical-align: top;\n",
       "    }\n",
       "\n",
       "    .dataframe thead th {\n",
       "        text-align: right;\n",
       "    }\n",
       "</style>\n",
       "<table border=\"1\" class=\"dataframe\">\n",
       "  <thead>\n",
       "    <tr style=\"text-align: right;\">\n",
       "      <th></th>\n",
       "      <th>address</th>\n",
       "      <th>adv</th>\n",
       "    </tr>\n",
       "  </thead>\n",
       "  <tbody>\n",
       "    <tr>\n",
       "      <th>0</th>\n",
       "      <td>پونک</td>\n",
       "      <td>4593</td>\n",
       "    </tr>\n",
       "    <tr>\n",
       "      <th>1</th>\n",
       "      <td>سعادت‌آباد</td>\n",
       "      <td>3563</td>\n",
       "    </tr>\n",
       "    <tr>\n",
       "      <th>2</th>\n",
       "      <td>دریاچه شهدای خلیج فارس</td>\n",
       "      <td>2875</td>\n",
       "    </tr>\n",
       "    <tr>\n",
       "      <th>3</th>\n",
       "      <td>کوی فردوس</td>\n",
       "      <td>2572</td>\n",
       "    </tr>\n",
       "    <tr>\n",
       "      <th>4</th>\n",
       "      <td>چیتگر</td>\n",
       "      <td>2369</td>\n",
       "    </tr>\n",
       "    <tr>\n",
       "      <th>5</th>\n",
       "      <td>جیحون</td>\n",
       "      <td>2242</td>\n",
       "    </tr>\n",
       "    <tr>\n",
       "      <th>6</th>\n",
       "      <td>پاسداران</td>\n",
       "      <td>2120</td>\n",
       "    </tr>\n",
       "    <tr>\n",
       "      <th>7</th>\n",
       "      <td>نیاوران</td>\n",
       "      <td>1894</td>\n",
       "    </tr>\n",
       "    <tr>\n",
       "      <th>8</th>\n",
       "      <td>جنت‌آباد جنوبی</td>\n",
       "      <td>1850</td>\n",
       "    </tr>\n",
       "    <tr>\n",
       "      <th>9</th>\n",
       "      <td>جنت‌آباد مرکزی</td>\n",
       "      <td>1828</td>\n",
       "    </tr>\n",
       "  </tbody>\n",
       "</table>\n",
       "</div>"
      ],
      "text/plain": [
       "                  address   adv\n",
       "0                    پونک  4593\n",
       "1              سعادت‌آباد  3563\n",
       "2  دریاچه شهدای خلیج فارس  2875\n",
       "3               کوی فردوس  2572\n",
       "4                   چیتگر  2369\n",
       "5                   جیحون  2242\n",
       "6                پاسداران  2120\n",
       "7                 نیاوران  1894\n",
       "8          جنت‌آباد جنوبی  1850\n",
       "9          جنت‌آباد مرکزی  1828"
      ]
     },
     "execution_count": 46,
     "metadata": {},
     "output_type": "execute_result"
    }
   ],
   "source": [
    "top_10_adv_2023"
   ]
  },
  {
   "cell_type": "code",
   "execution_count": 47,
   "metadata": {},
   "outputs": [],
   "source": [
    "address_list_2023 = top_10_adv_2023['address'].head(10).to_list()\n",
    "persian_labels_2023 = [get_display(reshape(label)) for label in address_list_2023]\n",
    "address_list_2021 = top_10_adv_2021['address'].head(10).to_list()\n",
    "persian_labels_2021 = [get_display(reshape(label)) for label in address_list_2021]"
   ]
  },
  {
   "cell_type": "code",
   "execution_count": 48,
   "metadata": {},
   "outputs": [],
   "source": [
    "text = get_display(reshape('مناطق تهران با بیشترین آگهی ثبت شده در دیوار در سال 2021'))\n",
    "x_text = get_display(reshape('مناطق تهران'))"
   ]
  },
  {
   "cell_type": "code",
   "execution_count": 49,
   "metadata": {},
   "outputs": [
    {
     "data": {
      "image/png": "[encoded data removed]",
      "text/plain": [
       "<Figure size 2000x800 with 1 Axes>"
      ]
     },
     "metadata": {},
     "output_type": "display_data"
    }
   ],
   "source": [
    "fig = plt.figure(figsize=(20,8))\n",
    "\n",
    "\n",
    "plt.bar(persian_labels_2021,top_10_adv_2021['adv'],color='deepskyblue')\n",
    "plt.title(text,loc='left',color='steelblue',size=20)\n",
    "plt.xlabel(x_text,color='navy')\n",
    "for i in range(len(top_10_adv_2021)):\n",
    "    plt.text(i,top_10_adv_2021['adv'][i],top_10_adv_2021['adv'][i],ha='center',color='navy',size=15)\n",
    "plt.gca().spines[['top','left','right','bottom']].set_visible(False)\n",
    "plt.yticks([])\n",
    "plt.xticks(color='midnightblue',size=11)\n",
    "plt.show()"
   ]
  },
  {
   "cell_type": "code",
   "execution_count": 50,
   "metadata": {},
   "outputs": [],
   "source": [
    "text = get_display(reshape('مناطق تهران با بیشترین آگهی ثبت شده در دیوار در سال 2023'))\n",
    "x_text = get_display(reshape('مناطق تهران'))"
   ]
  },
  {
   "cell_type": "code",
   "execution_count": 51,
   "metadata": {},
   "outputs": [
    {
     "data": {
      "image/png": "[encoded data removed]",
      "text/plain": [
       "<Figure size 2000x800 with 1 Axes>"
      ]
     },
     "metadata": {},
     "output_type": "display_data"
    }
   ],
   "source": [
    "fig = plt.figure(figsize=(20,8))\n",
    "\n",
    "\n",
    "plt.bar(persian_labels_2023,top_10_adv_2023['adv'],color='#82e0aa')\n",
    "plt.title(text,loc='left',color='#145a32',size=20)\n",
    "plt.xlabel(x_text,color='#084220')\n",
    "for i in range(len(top_10_adv_2023)):\n",
    "    plt.text(i,top_10_adv_2023['adv'][i],top_10_adv_2023['adv'][i],ha='center',color='#145a32',size=15)\n",
    "plt.gca().spines[['top','left','right','bottom']].set_visible(False)\n",
    "plt.yticks([])\n",
    "plt.xticks(color='#084220',size=11)\n",
    "plt.show()"
   ]
  },
  {
   "cell_type": "markdown",
   "metadata": {},
   "source": [
    "### Find areas that are affordable to buy a home"
   ]
  },
  {
   "cell_type": "markdown",
   "metadata": {},
   "source": [
    "The premise we used to find the areas that are suitable for buying a house was to consider only the houses that have both an elevator, a storage room and a parking lot."
   ]
  },
  {
   "cell_type": "code",
   "execution_count": 54,
   "metadata": {},
   "outputs": [],
   "source": [
    "filter_data = divar_2023[(divar_2023['elevator'] == True) & \n",
    "                         (divar_2023['parking'] == True) & \n",
    "                         (divar_2023['warehouse'] == True)\n",
    "                         ].reset_index().drop(columns='index')"
   ]
  },
  {
   "cell_type": "code",
   "execution_count": 55,
   "metadata": {},
   "outputs": [
    {
     "data": {
      "text/html": [
       "<div>\n",
       "<style scoped>\n",
       "    .dataframe tbody tr th:only-of-type {\n",
       "        vertical-align: middle;\n",
       "    }\n",
       "\n",
       "    .dataframe tbody tr th {\n",
       "        vertical-align: top;\n",
       "    }\n",
       "\n",
       "    .dataframe thead th {\n",
       "        text-align: right;\n",
       "    }\n",
       "</style>\n",
       "<table border=\"1\" class=\"dataframe\">\n",
       "  <thead>\n",
       "    <tr style=\"text-align: right;\">\n",
       "      <th></th>\n",
       "      <th>id</th>\n",
       "      <th>area</th>\n",
       "      <th>year</th>\n",
       "      <th>room</th>\n",
       "      <th>warehouse</th>\n",
       "      <th>parking</th>\n",
       "      <th>elevator</th>\n",
       "      <th>address</th>\n",
       "      <th>price</th>\n",
       "    </tr>\n",
       "  </thead>\n",
       "  <tbody>\n",
       "    <tr>\n",
       "      <th>0</th>\n",
       "      <td>65538</td>\n",
       "      <td>140</td>\n",
       "      <td>1398</td>\n",
       "      <td>3</td>\n",
       "      <td>True</td>\n",
       "      <td>True</td>\n",
       "      <td>True</td>\n",
       "      <td>گیشا (کوی نصر)</td>\n",
       "      <td>14500000000</td>\n",
       "    </tr>\n",
       "    <tr>\n",
       "      <th>1</th>\n",
       "      <td>65539</td>\n",
       "      <td>85</td>\n",
       "      <td>1401</td>\n",
       "      <td>2</td>\n",
       "      <td>True</td>\n",
       "      <td>True</td>\n",
       "      <td>True</td>\n",
       "      <td>جنت‌آباد شمالی</td>\n",
       "      <td>8500000000</td>\n",
       "    </tr>\n",
       "    <tr>\n",
       "      <th>2</th>\n",
       "      <td>65541</td>\n",
       "      <td>120</td>\n",
       "      <td>1401</td>\n",
       "      <td>2</td>\n",
       "      <td>True</td>\n",
       "      <td>True</td>\n",
       "      <td>True</td>\n",
       "      <td>پاسداران</td>\n",
       "      <td>14500000000</td>\n",
       "    </tr>\n",
       "    <tr>\n",
       "      <th>3</th>\n",
       "      <td>65543</td>\n",
       "      <td>126</td>\n",
       "      <td>1399</td>\n",
       "      <td>2</td>\n",
       "      <td>True</td>\n",
       "      <td>True</td>\n",
       "      <td>True</td>\n",
       "      <td>سعادت‌آباد</td>\n",
       "      <td>23000000000</td>\n",
       "    </tr>\n",
       "    <tr>\n",
       "      <th>4</th>\n",
       "      <td>65544</td>\n",
       "      <td>115</td>\n",
       "      <td>1401</td>\n",
       "      <td>2</td>\n",
       "      <td>True</td>\n",
       "      <td>True</td>\n",
       "      <td>True</td>\n",
       "      <td>سرو آزاد</td>\n",
       "      <td>6480000000</td>\n",
       "    </tr>\n",
       "    <tr>\n",
       "      <th>...</th>\n",
       "      <td>...</td>\n",
       "      <td>...</td>\n",
       "      <td>...</td>\n",
       "      <td>...</td>\n",
       "      <td>...</td>\n",
       "      <td>...</td>\n",
       "      <td>...</td>\n",
       "      <td>...</td>\n",
       "      <td>...</td>\n",
       "    </tr>\n",
       "    <tr>\n",
       "      <th>20815</th>\n",
       "      <td>94031</td>\n",
       "      <td>181</td>\n",
       "      <td>1393</td>\n",
       "      <td>3</td>\n",
       "      <td>True</td>\n",
       "      <td>True</td>\n",
       "      <td>True</td>\n",
       "      <td>جردن</td>\n",
       "      <td>18000000000</td>\n",
       "    </tr>\n",
       "    <tr>\n",
       "      <th>20816</th>\n",
       "      <td>94032</td>\n",
       "      <td>121</td>\n",
       "      <td>1400</td>\n",
       "      <td>3</td>\n",
       "      <td>True</td>\n",
       "      <td>True</td>\n",
       "      <td>True</td>\n",
       "      <td>اباذر</td>\n",
       "      <td>13800000000</td>\n",
       "    </tr>\n",
       "    <tr>\n",
       "      <th>20817</th>\n",
       "      <td>94033</td>\n",
       "      <td>140</td>\n",
       "      <td>1400</td>\n",
       "      <td>3</td>\n",
       "      <td>True</td>\n",
       "      <td>True</td>\n",
       "      <td>True</td>\n",
       "      <td>آبشار تهران</td>\n",
       "      <td>9860000000</td>\n",
       "    </tr>\n",
       "    <tr>\n",
       "      <th>20818</th>\n",
       "      <td>94034</td>\n",
       "      <td>105</td>\n",
       "      <td>1398</td>\n",
       "      <td>2</td>\n",
       "      <td>True</td>\n",
       "      <td>True</td>\n",
       "      <td>True</td>\n",
       "      <td>اوقاف</td>\n",
       "      <td>6430000000</td>\n",
       "    </tr>\n",
       "    <tr>\n",
       "      <th>20819</th>\n",
       "      <td>94035</td>\n",
       "      <td>51</td>\n",
       "      <td>1385</td>\n",
       "      <td>1</td>\n",
       "      <td>True</td>\n",
       "      <td>True</td>\n",
       "      <td>True</td>\n",
       "      <td>سلسبیل</td>\n",
       "      <td>3100000000</td>\n",
       "    </tr>\n",
       "  </tbody>\n",
       "</table>\n",
       "<p>20820 rows × 9 columns</p>\n",
       "</div>"
      ],
      "text/plain": [
       "          id  area  year  room warehouse parking elevator         address  \\\n",
       "0      65538   140  1398     3      True    True     True  گیشا (کوی نصر)   \n",
       "1      65539    85  1401     2      True    True     True  جنت‌آباد شمالی   \n",
       "2      65541   120  1401     2      True    True     True        پاسداران   \n",
       "3      65543   126  1399     2      True    True     True      سعادت‌آباد   \n",
       "4      65544   115  1401     2      True    True     True        سرو آزاد   \n",
       "...      ...   ...   ...   ...       ...     ...      ...             ...   \n",
       "20815  94031   181  1393     3      True    True     True            جردن   \n",
       "20816  94032   121  1400     3      True    True     True           اباذر   \n",
       "20817  94033   140  1400     3      True    True     True     آبشار تهران   \n",
       "20818  94034   105  1398     2      True    True     True           اوقاف   \n",
       "20819  94035    51  1385     1      True    True     True          سلسبیل   \n",
       "\n",
       "             price  \n",
       "0      14500000000  \n",
       "1       8500000000  \n",
       "2      14500000000  \n",
       "3      23000000000  \n",
       "4       6480000000  \n",
       "...            ...  \n",
       "20815  18000000000  \n",
       "20816  13800000000  \n",
       "20817   9860000000  \n",
       "20818   6430000000  \n",
       "20819   3100000000  \n",
       "\n",
       "[20820 rows x 9 columns]"
      ]
     },
     "execution_count": 55,
     "metadata": {},
     "output_type": "execute_result"
    }
   ],
   "source": [
    "filter_data"
   ]
  },
  {
   "cell_type": "code",
   "execution_count": 56,
   "metadata": {},
   "outputs": [],
   "source": [
    "group_data = pd.DataFrame(filter_data.groupby('address')['price'].median()).rename(columns={'price':'median_price'})"
   ]
  },
  {
   "cell_type": "code",
   "execution_count": 57,
   "metadata": {},
   "outputs": [],
   "source": [
    "group_data['budget_category'] = pd.cut(group_data['median_price'],4,labels=['low','medium','high','very high'])"
   ]
  },
  {
   "cell_type": "code",
   "execution_count": 58,
   "metadata": {},
   "outputs": [
    {
     "data": {
      "text/html": [
       "<div>\n",
       "<style scoped>\n",
       "    .dataframe tbody tr th:only-of-type {\n",
       "        vertical-align: middle;\n",
       "    }\n",
       "\n",
       "    .dataframe tbody tr th {\n",
       "        vertical-align: top;\n",
       "    }\n",
       "\n",
       "    .dataframe thead th {\n",
       "        text-align: right;\n",
       "    }\n",
       "</style>\n",
       "<table border=\"1\" class=\"dataframe\">\n",
       "  <thead>\n",
       "    <tr style=\"text-align: right;\">\n",
       "      <th></th>\n",
       "      <th>median_price</th>\n",
       "      <th>budget_category</th>\n",
       "    </tr>\n",
       "    <tr>\n",
       "      <th>address</th>\n",
       "      <th></th>\n",
       "      <th></th>\n",
       "    </tr>\n",
       "  </thead>\n",
       "  <tbody>\n",
       "    <tr>\n",
       "      <th>آبشار</th>\n",
       "      <td>4.925000e+09</td>\n",
       "      <td>low</td>\n",
       "    </tr>\n",
       "    <tr>\n",
       "      <th>آبشار تهران</th>\n",
       "      <td>6.700000e+09</td>\n",
       "      <td>low</td>\n",
       "    </tr>\n",
       "    <tr>\n",
       "      <th>آجودانیه</th>\n",
       "      <td>2.650000e+10</td>\n",
       "      <td>high</td>\n",
       "    </tr>\n",
       "    <tr>\n",
       "      <th>آذربایجان</th>\n",
       "      <td>5.835000e+09</td>\n",
       "      <td>low</td>\n",
       "    </tr>\n",
       "    <tr>\n",
       "      <th>آذری</th>\n",
       "      <td>3.100000e+09</td>\n",
       "      <td>low</td>\n",
       "    </tr>\n",
       "    <tr>\n",
       "      <th>...</th>\n",
       "      <td>...</td>\n",
       "      <td>...</td>\n",
       "    </tr>\n",
       "    <tr>\n",
       "      <th>گمرک</th>\n",
       "      <td>2.999000e+09</td>\n",
       "      <td>low</td>\n",
       "    </tr>\n",
       "    <tr>\n",
       "      <th>گیشا (کوی نصر)</th>\n",
       "      <td>1.315000e+10</td>\n",
       "      <td>medium</td>\n",
       "    </tr>\n",
       "    <tr>\n",
       "      <th>یاخچی‌آباد</th>\n",
       "      <td>5.325000e+09</td>\n",
       "      <td>low</td>\n",
       "    </tr>\n",
       "    <tr>\n",
       "      <th>یافت‌آباد</th>\n",
       "      <td>2.900000e+09</td>\n",
       "      <td>low</td>\n",
       "    </tr>\n",
       "    <tr>\n",
       "      <th>یوسف‌آباد</th>\n",
       "      <td>1.340000e+10</td>\n",
       "      <td>medium</td>\n",
       "    </tr>\n",
       "  </tbody>\n",
       "</table>\n",
       "<p>305 rows × 2 columns</p>\n",
       "</div>"
      ],
      "text/plain": [
       "                median_price budget_category\n",
       "address                                     \n",
       "آبشار           4.925000e+09             low\n",
       "آبشار تهران     6.700000e+09             low\n",
       "آجودانیه        2.650000e+10            high\n",
       "آذربایجان       5.835000e+09             low\n",
       "آذری            3.100000e+09             low\n",
       "...                      ...             ...\n",
       "گمرک            2.999000e+09             low\n",
       "گیشا (کوی نصر)  1.315000e+10          medium\n",
       "یاخچی‌آباد      5.325000e+09             low\n",
       "یافت‌آباد       2.900000e+09             low\n",
       "یوسف‌آباد       1.340000e+10          medium\n",
       "\n",
       "[305 rows x 2 columns]"
      ]
     },
     "execution_count": 58,
     "metadata": {},
     "output_type": "execute_result"
    }
   ],
   "source": [
    "group_data"
   ]
  },
  {
   "cell_type": "code",
   "execution_count": 59,
   "metadata": {},
   "outputs": [],
   "source": [
    "low_budget = group_data[group_data['budget_category'] == 'low']\n",
    "medium_budget = group_data[group_data['budget_category'] == 'medium']\n",
    "high_budget = group_data[group_data['budget_category'] == 'high']\n",
    "very_high_budget = group_data[group_data['budget_category'] == 'very high']"
   ]
  },
  {
   "cell_type": "code",
   "execution_count": 60,
   "metadata": {},
   "outputs": [],
   "source": [
    "sort_low_budget = low_budget.sort_values(by='median_price')\n",
    "sort_medium_budget = medium_budget.sort_values(by='median_price')\n",
    "sort_high_budget = high_budget.sort_values(by='median_price')\n",
    "sort_very_high_budget = very_high_budget.sort_values(by='median_price')\n"
   ]
  },
  {
   "cell_type": "code",
   "execution_count": 61,
   "metadata": {},
   "outputs": [
    {
     "data": {
      "text/html": [
       "<div>\n",
       "<style scoped>\n",
       "    .dataframe tbody tr th:only-of-type {\n",
       "        vertical-align: middle;\n",
       "    }\n",
       "\n",
       "    .dataframe tbody tr th {\n",
       "        vertical-align: top;\n",
       "    }\n",
       "\n",
       "    .dataframe thead th {\n",
       "        text-align: right;\n",
       "    }\n",
       "</style>\n",
       "<table border=\"1\" class=\"dataframe\">\n",
       "  <thead>\n",
       "    <tr style=\"text-align: right;\">\n",
       "      <th></th>\n",
       "      <th>median_price</th>\n",
       "      <th>budget_category</th>\n",
       "    </tr>\n",
       "    <tr>\n",
       "      <th>address</th>\n",
       "      <th></th>\n",
       "      <th></th>\n",
       "    </tr>\n",
       "  </thead>\n",
       "  <tbody>\n",
       "    <tr>\n",
       "      <th>کامرانیه</th>\n",
       "      <td>3.680000e+10</td>\n",
       "      <td>very high</td>\n",
       "    </tr>\n",
       "    <tr>\n",
       "      <th>الهیه</th>\n",
       "      <td>3.900000e+10</td>\n",
       "      <td>very high</td>\n",
       "    </tr>\n",
       "    <tr>\n",
       "      <th>گلاب دره</th>\n",
       "      <td>3.925000e+10</td>\n",
       "      <td>very high</td>\n",
       "    </tr>\n",
       "    <tr>\n",
       "      <th>زعفرانیه</th>\n",
       "      <td>4.000000e+10</td>\n",
       "      <td>very high</td>\n",
       "    </tr>\n",
       "    <tr>\n",
       "      <th>محمودیه</th>\n",
       "      <td>4.000000e+10</td>\n",
       "      <td>very high</td>\n",
       "    </tr>\n",
       "    <tr>\n",
       "      <th>هزارسنگ</th>\n",
       "      <td>4.500000e+10</td>\n",
       "      <td>very high</td>\n",
       "    </tr>\n",
       "  </tbody>\n",
       "</table>\n",
       "</div>"
      ],
      "text/plain": [
       "          median_price budget_category\n",
       "address                               \n",
       "کامرانیه  3.680000e+10       very high\n",
       "الهیه     3.900000e+10       very high\n",
       "گلاب دره  3.925000e+10       very high\n",
       "زعفرانیه  4.000000e+10       very high\n",
       "محمودیه   4.000000e+10       very high\n",
       "هزارسنگ   4.500000e+10       very high"
      ]
     },
     "execution_count": 61,
     "metadata": {},
     "output_type": "execute_result"
    }
   ],
   "source": [
    "sort_very_high_budget"
   ]
  },
  {
   "cell_type": "code",
   "execution_count": 62,
   "metadata": {},
   "outputs": [],
   "source": [
    "address_list = sort_low_budget.index.to_list()[:10]\n",
    "persian_labels = [get_display(reshape(label)) for label in address_list]"
   ]
  },
  {
   "cell_type": "code",
   "execution_count": 63,
   "metadata": {},
   "outputs": [
    {
     "data": {
      "image/png": "[encoded data removed]",
      "text/plain": [
       "<Figure size 1000x600 with 1 Axes>"
      ]
     },
     "metadata": {},
     "output_type": "display_data"
    }
   ],
   "source": [
    "plt.figure(figsize=(10,6))\n",
    "sns.scatterplot(sort_low_budget.head(10),x=persian_labels,y='median_price')\n",
    "plt.title(\n",
    "    'The best areas for buying house'\n",
    ")\n",
    "plt.show()"
   ]
  },
  {
   "cell_type": "code",
   "execution_count": 64,
   "metadata": {},
   "outputs": [],
   "source": [
    "address_list = sort_medium_budget.index.to_list()[:10]\n",
    "persian_labels = [get_display(reshape(label)) for label in address_list]"
   ]
  },
  {
   "cell_type": "code",
   "execution_count": 65,
   "metadata": {},
   "outputs": [
    {
     "data": {
      "image/png": "[encoded data removed]",
      "text/plain": [
       "<Figure size 1500x600 with 1 Axes>"
      ]
     },
     "metadata": {},
     "output_type": "display_data"
    }
   ],
   "source": [
    "plt.figure(figsize=(15,6))\n",
    "sns.scatterplot(sort_medium_budget.head(10),x=persian_labels,y='median_price')\n",
    "plt.title(\n",
    "    'The best areas for buying house'\n",
    ")\n",
    "plt.show()"
   ]
  },
  {
   "cell_type": "code",
   "execution_count": 196,
   "metadata": {},
   "outputs": [],
   "source": [
    "address_list = sort_high_budget.index.to_list()[:10]\n",
    "persian_labels = [get_display(reshape(label)) for label in address_list]"
   ]
  },
  {
   "cell_type": "code",
   "execution_count": 198,
   "metadata": {},
   "outputs": [
    {
     "data": {
      "image/png": "[encoded data removed]",
      "text/plain": [
       "<Figure size 1000x600 with 1 Axes>"
      ]
     },
     "metadata": {},
     "output_type": "display_data"
    }
   ],
   "source": [
    "plt.figure(figsize=(10,6))\n",
    "sns.scatterplot(sort_high_budget.head(10),x=persian_labels,y='median_price')\n",
    "plt.title(\n",
    "    'The best areas for buying house'\n",
    ")\n",
    "plt.show()"
   ]
  },
  {
   "cell_type": "code",
   "execution_count": 204,
   "metadata": {},
   "outputs": [],
   "source": [
    "address_list = sort_very_high_budget.index.to_list()[:10]\n",
    "persian_labels = [get_display(reshape(label)) for label in address_list]"
   ]
  },
  {
   "cell_type": "code",
   "execution_count": 205,
   "metadata": {},
   "outputs": [
    {
     "data": {
      "image/png": "[encoded data removed]",
      "text/plain": [
       "<Figure size 1000x600 with 1 Axes>"
      ]
     },
     "metadata": {},
     "output_type": "display_data"
    }
   ],
   "source": [
    "plt.figure(figsize=(10,6))\n",
    "sns.scatterplot(sort_very_high_budget.head(10),x=persian_labels,y='median_price')\n",
    "plt.title(\n",
    "    'The best areas for buying house'\n",
    ")\n",
    "plt.show()"
   ]
  },
  {
   "cell_type": "markdown",
   "metadata": {},
   "source": [
    "### Based on the ads for renting apartments and buying apartments in Dataset 2021, check the cost-effectiveness of renting in different neighborhoods"
   ]
  },
  {
   "cell_type": "code",
   "execution_count": 66,
   "metadata": {},
   "outputs": [],
   "source": [
    "# Filter dataset on \"apartment-rent\" or \"apartment-sell\"\n",
    "rent_sell_apartment = divar_2021[(divar_2021['sub_category']== 'apartment-rent') | (divar_2021['sub_category']== 'apartment-sell')].drop(columns=['rent','credit','Unnamed: 0'\n",
    ",'balcony','agency','location']).dropna()"
   ]
  },
  {
   "cell_type": "code",
   "execution_count": 67,
   "metadata": {},
   "outputs": [
    {
     "data": {
      "text/html": [
       "<div>\n",
       "<style scoped>\n",
       "    .dataframe tbody tr th:only-of-type {\n",
       "        vertical-align: middle;\n",
       "    }\n",
       "\n",
       "    .dataframe tbody tr th {\n",
       "        vertical-align: top;\n",
       "    }\n",
       "\n",
       "    .dataframe thead th {\n",
       "        text-align: right;\n",
       "    }\n",
       "</style>\n",
       "<table border=\"1\" class=\"dataframe\">\n",
       "  <thead>\n",
       "    <tr style=\"text-align: right;\">\n",
       "      <th></th>\n",
       "      <th>district</th>\n",
       "      <th>token</th>\n",
       "      <th>sub_category</th>\n",
       "      <th>category</th>\n",
       "      <th>business_type</th>\n",
       "      <th>price</th>\n",
       "      <th>title</th>\n",
       "      <th>area</th>\n",
       "      <th>year</th>\n",
       "      <th>room</th>\n",
       "      <th>floor</th>\n",
       "      <th>elevator</th>\n",
       "      <th>parking</th>\n",
       "      <th>storage</th>\n",
       "    </tr>\n",
       "  </thead>\n",
       "  <tbody>\n",
       "    <tr>\n",
       "      <th>0</th>\n",
       "      <td>پرند</td>\n",
       "      <td>AYlgrZxh</td>\n",
       "      <td>apartment-sell</td>\n",
       "      <td>residential-sell</td>\n",
       "      <td>personal</td>\n",
       "      <td>2.400000e+08</td>\n",
       "      <td>هسا فول واریزی</td>\n",
       "      <td>84.0</td>\n",
       "      <td>1399.0</td>\n",
       "      <td>2.0</td>\n",
       "      <td>3.0</td>\n",
       "      <td>False</td>\n",
       "      <td>True</td>\n",
       "      <td>True</td>\n",
       "    </tr>\n",
       "    <tr>\n",
       "      <th>7</th>\n",
       "      <td>نازی‌آباد</td>\n",
       "      <td>AYlcbIE5</td>\n",
       "      <td>apartment-sell</td>\n",
       "      <td>residential-sell</td>\n",
       "      <td>personal</td>\n",
       "      <td>1.400000e+09</td>\n",
       "      <td>آپارتمان ۵۳ متری هزاردستگاه.تک واحدی فول</td>\n",
       "      <td>53.0</td>\n",
       "      <td>1394.0</td>\n",
       "      <td>1.0</td>\n",
       "      <td>3.0</td>\n",
       "      <td>True</td>\n",
       "      <td>True</td>\n",
       "      <td>True</td>\n",
       "    </tr>\n",
       "    <tr>\n",
       "      <th>8</th>\n",
       "      <td>آذربایجان</td>\n",
       "      <td>AYckmcFP</td>\n",
       "      <td>apartment-sell</td>\n",
       "      <td>residential-sell</td>\n",
       "      <td>personal</td>\n",
       "      <td>1.580000e+09</td>\n",
       "      <td>70 متر، 2 پارکینگ، دوکله نور، فول، سلسبیل</td>\n",
       "      <td>70.0</td>\n",
       "      <td>1385.0</td>\n",
       "      <td>2.0</td>\n",
       "      <td>1.0</td>\n",
       "      <td>True</td>\n",
       "      <td>True</td>\n",
       "      <td>True</td>\n",
       "    </tr>\n",
       "    <tr>\n",
       "      <th>10</th>\n",
       "      <td>آهنگ</td>\n",
       "      <td>AYlo7UnY</td>\n",
       "      <td>apartment-sell</td>\n",
       "      <td>residential-sell</td>\n",
       "      <td>personal</td>\n",
       "      <td>7.000000e+08</td>\n",
       "      <td>خونه آهنگ</td>\n",
       "      <td>45.0</td>\n",
       "      <td>1382.0</td>\n",
       "      <td>1.0</td>\n",
       "      <td>5.0</td>\n",
       "      <td>True</td>\n",
       "      <td>False</td>\n",
       "      <td>True</td>\n",
       "    </tr>\n",
       "    <tr>\n",
       "      <th>12</th>\n",
       "      <td>جردن</td>\n",
       "      <td>AYlc7fd1</td>\n",
       "      <td>apartment-sell</td>\n",
       "      <td>residential-sell</td>\n",
       "      <td>personal</td>\n",
       "      <td>1.400000e+10</td>\n",
       "      <td>۲۰۰ متر جردن نوساز فروش و معاوضه</td>\n",
       "      <td>200.0</td>\n",
       "      <td>1399.0</td>\n",
       "      <td>3.0</td>\n",
       "      <td>5.0</td>\n",
       "      <td>True</td>\n",
       "      <td>True</td>\n",
       "      <td>True</td>\n",
       "    </tr>\n",
       "    <tr>\n",
       "      <th>...</th>\n",
       "      <td>...</td>\n",
       "      <td>...</td>\n",
       "      <td>...</td>\n",
       "      <td>...</td>\n",
       "      <td>...</td>\n",
       "      <td>...</td>\n",
       "      <td>...</td>\n",
       "      <td>...</td>\n",
       "      <td>...</td>\n",
       "      <td>...</td>\n",
       "      <td>...</td>\n",
       "      <td>...</td>\n",
       "      <td>...</td>\n",
       "      <td>...</td>\n",
       "    </tr>\n",
       "    <tr>\n",
       "      <th>372218</th>\n",
       "      <td>اقدسیه</td>\n",
       "      <td>QXtbAUWI</td>\n",
       "      <td>apartment-sell</td>\n",
       "      <td>residential-sell</td>\n",
       "      <td>personal</td>\n",
       "      <td>1.020000e+10</td>\n",
       "      <td>اقدسیه صاحبقرانیه  302 مترچهار خوابه فول</td>\n",
       "      <td>302.0</td>\n",
       "      <td>1382.0</td>\n",
       "      <td>4.0</td>\n",
       "      <td>3.0</td>\n",
       "      <td>True</td>\n",
       "      <td>True</td>\n",
       "      <td>True</td>\n",
       "    </tr>\n",
       "    <tr>\n",
       "      <th>372233</th>\n",
       "      <td>نیاوران</td>\n",
       "      <td>gXWhm1mP</td>\n",
       "      <td>apartment-sell</td>\n",
       "      <td>residential-sell</td>\n",
       "      <td>personal</td>\n",
       "      <td>1.100000e+10</td>\n",
       "      <td>نیاوران مرجان 147 متری سه خوابه فول امکانات نوساز</td>\n",
       "      <td>147.0</td>\n",
       "      <td>1397.0</td>\n",
       "      <td>3.0</td>\n",
       "      <td>4.0</td>\n",
       "      <td>True</td>\n",
       "      <td>True</td>\n",
       "      <td>True</td>\n",
       "    </tr>\n",
       "    <tr>\n",
       "      <th>372263</th>\n",
       "      <td>پردیس</td>\n",
       "      <td>gX6QoxGb</td>\n",
       "      <td>apartment-sell</td>\n",
       "      <td>residential-sell</td>\n",
       "      <td>personal</td>\n",
       "      <td>5.500000e+08</td>\n",
       "      <td>فاز ۸ پردیس ۱۲۰ متری</td>\n",
       "      <td>120.0</td>\n",
       "      <td>1398.0</td>\n",
       "      <td>2.0</td>\n",
       "      <td>1.0</td>\n",
       "      <td>True</td>\n",
       "      <td>True</td>\n",
       "      <td>True</td>\n",
       "    </tr>\n",
       "    <tr>\n",
       "      <th>372294</th>\n",
       "      <td>شهرک غرب</td>\n",
       "      <td>QXiRxD6x</td>\n",
       "      <td>apartment-sell</td>\n",
       "      <td>residential-sell</td>\n",
       "      <td>personal</td>\n",
       "      <td>5.100000e+09</td>\n",
       "      <td>بلوار دریا،85 متر</td>\n",
       "      <td>85.0</td>\n",
       "      <td>1380.0</td>\n",
       "      <td>2.0</td>\n",
       "      <td>1.0</td>\n",
       "      <td>True</td>\n",
       "      <td>True</td>\n",
       "      <td>True</td>\n",
       "    </tr>\n",
       "    <tr>\n",
       "      <th>372297</th>\n",
       "      <td>پردیس</td>\n",
       "      <td>C8ciy9g1t</td>\n",
       "      <td>apartment-sell</td>\n",
       "      <td>residential-sell</td>\n",
       "      <td>personal</td>\n",
       "      <td>5.500000e+08</td>\n",
       "      <td>آپارتمان ۹۱متری فاز ۱۱ پردیس</td>\n",
       "      <td>91.0</td>\n",
       "      <td>1399.0</td>\n",
       "      <td>2.0</td>\n",
       "      <td>14.0</td>\n",
       "      <td>True</td>\n",
       "      <td>True</td>\n",
       "      <td>True</td>\n",
       "    </tr>\n",
       "  </tbody>\n",
       "</table>\n",
       "<p>123006 rows × 14 columns</p>\n",
       "</div>"
      ],
      "text/plain": [
       "         district      token    sub_category          category business_type  \\\n",
       "0            پرند   AYlgrZxh  apartment-sell  residential-sell      personal   \n",
       "7       نازی‌آباد   AYlcbIE5  apartment-sell  residential-sell      personal   \n",
       "8       آذربایجان   AYckmcFP  apartment-sell  residential-sell      personal   \n",
       "10           آهنگ   AYlo7UnY  apartment-sell  residential-sell      personal   \n",
       "12           جردن   AYlc7fd1  apartment-sell  residential-sell      personal   \n",
       "...           ...        ...             ...               ...           ...   \n",
       "372218     اقدسیه   QXtbAUWI  apartment-sell  residential-sell      personal   \n",
       "372233    نیاوران   gXWhm1mP  apartment-sell  residential-sell      personal   \n",
       "372263      پردیس   gX6QoxGb  apartment-sell  residential-sell      personal   \n",
       "372294   شهرک غرب   QXiRxD6x  apartment-sell  residential-sell      personal   \n",
       "372297      پردیس  C8ciy9g1t  apartment-sell  residential-sell      personal   \n",
       "\n",
       "               price                                              title  \\\n",
       "0       2.400000e+08                                     هسا فول واریزی   \n",
       "7       1.400000e+09           آپارتمان ۵۳ متری هزاردستگاه.تک واحدی فول   \n",
       "8       1.580000e+09          70 متر، 2 پارکینگ، دوکله نور، فول، سلسبیل   \n",
       "10      7.000000e+08                                          خونه آهنگ   \n",
       "12      1.400000e+10                   ۲۰۰ متر جردن نوساز فروش و معاوضه   \n",
       "...              ...                                                ...   \n",
       "372218  1.020000e+10           اقدسیه صاحبقرانیه  302 مترچهار خوابه فول   \n",
       "372233  1.100000e+10  نیاوران مرجان 147 متری سه خوابه فول امکانات نوساز   \n",
       "372263  5.500000e+08                               فاز ۸ پردیس ۱۲۰ متری   \n",
       "372294  5.100000e+09                                  بلوار دریا،85 متر   \n",
       "372297  5.500000e+08                       آپارتمان ۹۱متری فاز ۱۱ پردیس   \n",
       "\n",
       "         area    year  room  floor elevator parking storage  \n",
       "0        84.0  1399.0   2.0    3.0    False    True    True  \n",
       "7        53.0  1394.0   1.0    3.0     True    True    True  \n",
       "8        70.0  1385.0   2.0    1.0     True    True    True  \n",
       "10       45.0  1382.0   1.0    5.0     True   False    True  \n",
       "12      200.0  1399.0   3.0    5.0     True    True    True  \n",
       "...       ...     ...   ...    ...      ...     ...     ...  \n",
       "372218  302.0  1382.0   4.0    3.0     True    True    True  \n",
       "372233  147.0  1397.0   3.0    4.0     True    True    True  \n",
       "372263  120.0  1398.0   2.0    1.0     True    True    True  \n",
       "372294   85.0  1380.0   2.0    1.0     True    True    True  \n",
       "372297   91.0  1399.0   2.0   14.0     True    True    True  \n",
       "\n",
       "[123006 rows x 14 columns]"
      ]
     },
     "execution_count": 67,
     "metadata": {},
     "output_type": "execute_result"
    }
   ],
   "source": [
    "rent_sell_apartment"
   ]
  },
  {
   "cell_type": "code",
   "execution_count": 68,
   "metadata": {},
   "outputs": [],
   "source": [
    "rent_aprt = divar_2021[(divar_2021['sub_category']== 'apartment-rent') \n",
    "                        & (divar_2021['category'] == 'residential-rent')\n",
    "                        ].rename(columns={'district':'address'}).reset_index().drop(columns=['Unnamed: 0','balcony',\n",
    "                       'agency','location','title','location','business_type',\n",
    "                        'token','price','index']).dropna()"
   ]
  },
  {
   "cell_type": "code",
   "execution_count": 69,
   "metadata": {},
   "outputs": [],
   "source": [
    "sell_aprt = divar_2021[(divar_2021['sub_category']== 'apartment-sell') \n",
    "                        & (divar_2021['category'] == 'residential-sell')\n",
    "                        ].rename(columns={'district':'address'}).reset_index().drop(columns=['Unnamed: 0','balcony',\n",
    "                       'agency','location','title','location','business_type',\n",
    "                        'token','rent','credit','index']).dropna()"
   ]
  },
  {
   "cell_type": "markdown",
   "metadata": {},
   "source": [
    "Here instead of rent, we use credit for all houses.\n",
    "\n",
    "The formula we used for convert rent to credit is below:"
   ]
  },
  {
   "cell_type": "code",
   "execution_count": 70,
   "metadata": {},
   "outputs": [],
   "source": [
    "rent_aprt['total_rent'] = rent_aprt[['rent','credit']].apply(lambda row : int(row['rent'] * 30 + row['credit']),axis=1)"
   ]
  },
  {
   "cell_type": "code",
   "execution_count": 71,
   "metadata": {},
   "outputs": [],
   "source": [
    "rent_aprt.drop(columns=['rent','credit'],inplace=True)"
   ]
  },
  {
   "cell_type": "code",
   "execution_count": 72,
   "metadata": {},
   "outputs": [
    {
     "data": {
      "text/html": [
       "<div>\n",
       "<style scoped>\n",
       "    .dataframe tbody tr th:only-of-type {\n",
       "        vertical-align: middle;\n",
       "    }\n",
       "\n",
       "    .dataframe tbody tr th {\n",
       "        vertical-align: top;\n",
       "    }\n",
       "\n",
       "    .dataframe thead th {\n",
       "        text-align: right;\n",
       "    }\n",
       "</style>\n",
       "<table border=\"1\" class=\"dataframe\">\n",
       "  <thead>\n",
       "    <tr style=\"text-align: right;\">\n",
       "      <th></th>\n",
       "      <th>address</th>\n",
       "      <th>sub_category</th>\n",
       "      <th>category</th>\n",
       "      <th>area</th>\n",
       "      <th>year</th>\n",
       "      <th>room</th>\n",
       "      <th>floor</th>\n",
       "      <th>elevator</th>\n",
       "      <th>parking</th>\n",
       "      <th>storage</th>\n",
       "      <th>total_rent</th>\n",
       "    </tr>\n",
       "  </thead>\n",
       "  <tbody>\n",
       "    <tr>\n",
       "      <th>0</th>\n",
       "      <td>قنات‌کوثر</td>\n",
       "      <td>apartment-rent</td>\n",
       "      <td>residential-rent</td>\n",
       "      <td>90.0</td>\n",
       "      <td>1395.0</td>\n",
       "      <td>2.0</td>\n",
       "      <td>1.0</td>\n",
       "      <td>True</td>\n",
       "      <td>True</td>\n",
       "      <td>True</td>\n",
       "      <td>350000000</td>\n",
       "    </tr>\n",
       "    <tr>\n",
       "      <th>1</th>\n",
       "      <td>سعادت‌آباد</td>\n",
       "      <td>apartment-rent</td>\n",
       "      <td>residential-rent</td>\n",
       "      <td>80.0</td>\n",
       "      <td>1398.0</td>\n",
       "      <td>2.0</td>\n",
       "      <td>4.0</td>\n",
       "      <td>True</td>\n",
       "      <td>True</td>\n",
       "      <td>True</td>\n",
       "      <td>570000000</td>\n",
       "    </tr>\n",
       "    <tr>\n",
       "      <th>2</th>\n",
       "      <td>سعادت‌آباد</td>\n",
       "      <td>apartment-rent</td>\n",
       "      <td>residential-rent</td>\n",
       "      <td>163.0</td>\n",
       "      <td>1397.0</td>\n",
       "      <td>3.0</td>\n",
       "      <td>3.0</td>\n",
       "      <td>True</td>\n",
       "      <td>True</td>\n",
       "      <td>True</td>\n",
       "      <td>1420000000</td>\n",
       "    </tr>\n",
       "    <tr>\n",
       "      <th>3</th>\n",
       "      <td>سعادت‌آباد</td>\n",
       "      <td>apartment-rent</td>\n",
       "      <td>residential-rent</td>\n",
       "      <td>100.0</td>\n",
       "      <td>1391.0</td>\n",
       "      <td>2.0</td>\n",
       "      <td>3.0</td>\n",
       "      <td>True</td>\n",
       "      <td>True</td>\n",
       "      <td>True</td>\n",
       "      <td>750000000</td>\n",
       "    </tr>\n",
       "    <tr>\n",
       "      <th>4</th>\n",
       "      <td>سعادت‌آباد</td>\n",
       "      <td>apartment-rent</td>\n",
       "      <td>residential-rent</td>\n",
       "      <td>180.0</td>\n",
       "      <td>1390.0</td>\n",
       "      <td>3.0</td>\n",
       "      <td>3.0</td>\n",
       "      <td>True</td>\n",
       "      <td>True</td>\n",
       "      <td>True</td>\n",
       "      <td>1060000000</td>\n",
       "    </tr>\n",
       "  </tbody>\n",
       "</table>\n",
       "</div>"
      ],
      "text/plain": [
       "      address    sub_category          category   area    year  room  floor  \\\n",
       "0   قنات‌کوثر  apartment-rent  residential-rent   90.0  1395.0   2.0    1.0   \n",
       "1  سعادت‌آباد  apartment-rent  residential-rent   80.0  1398.0   2.0    4.0   \n",
       "2  سعادت‌آباد  apartment-rent  residential-rent  163.0  1397.0   3.0    3.0   \n",
       "3  سعادت‌آباد  apartment-rent  residential-rent  100.0  1391.0   2.0    3.0   \n",
       "4  سعادت‌آباد  apartment-rent  residential-rent  180.0  1390.0   3.0    3.0   \n",
       "\n",
       "  elevator parking storage  total_rent  \n",
       "0     True    True    True   350000000  \n",
       "1     True    True    True   570000000  \n",
       "2     True    True    True  1420000000  \n",
       "3     True    True    True   750000000  \n",
       "4     True    True    True  1060000000  "
      ]
     },
     "execution_count": 72,
     "metadata": {},
     "output_type": "execute_result"
    }
   ],
   "source": [
    "rent_aprt.head()"
   ]
  },
  {
   "cell_type": "code",
   "execution_count": 73,
   "metadata": {},
   "outputs": [
    {
     "data": {
      "text/html": [
       "<div>\n",
       "<style scoped>\n",
       "    .dataframe tbody tr th:only-of-type {\n",
       "        vertical-align: middle;\n",
       "    }\n",
       "\n",
       "    .dataframe tbody tr th {\n",
       "        vertical-align: top;\n",
       "    }\n",
       "\n",
       "    .dataframe thead th {\n",
       "        text-align: right;\n",
       "    }\n",
       "</style>\n",
       "<table border=\"1\" class=\"dataframe\">\n",
       "  <thead>\n",
       "    <tr style=\"text-align: right;\">\n",
       "      <th></th>\n",
       "      <th>address</th>\n",
       "      <th>sub_category</th>\n",
       "      <th>category</th>\n",
       "      <th>price</th>\n",
       "      <th>area</th>\n",
       "      <th>year</th>\n",
       "      <th>room</th>\n",
       "      <th>floor</th>\n",
       "      <th>elevator</th>\n",
       "      <th>parking</th>\n",
       "      <th>storage</th>\n",
       "    </tr>\n",
       "  </thead>\n",
       "  <tbody>\n",
       "    <tr>\n",
       "      <th>0</th>\n",
       "      <td>پرند</td>\n",
       "      <td>apartment-sell</td>\n",
       "      <td>residential-sell</td>\n",
       "      <td>240000000</td>\n",
       "      <td>84.0</td>\n",
       "      <td>1399.0</td>\n",
       "      <td>2.0</td>\n",
       "      <td>3.0</td>\n",
       "      <td>False</td>\n",
       "      <td>True</td>\n",
       "      <td>True</td>\n",
       "    </tr>\n",
       "    <tr>\n",
       "      <th>1</th>\n",
       "      <td>نازی‌آباد</td>\n",
       "      <td>apartment-sell</td>\n",
       "      <td>residential-sell</td>\n",
       "      <td>1400000000</td>\n",
       "      <td>53.0</td>\n",
       "      <td>1394.0</td>\n",
       "      <td>1.0</td>\n",
       "      <td>3.0</td>\n",
       "      <td>True</td>\n",
       "      <td>True</td>\n",
       "      <td>True</td>\n",
       "    </tr>\n",
       "    <tr>\n",
       "      <th>2</th>\n",
       "      <td>آذربایجان</td>\n",
       "      <td>apartment-sell</td>\n",
       "      <td>residential-sell</td>\n",
       "      <td>1580000000</td>\n",
       "      <td>70.0</td>\n",
       "      <td>1385.0</td>\n",
       "      <td>2.0</td>\n",
       "      <td>1.0</td>\n",
       "      <td>True</td>\n",
       "      <td>True</td>\n",
       "      <td>True</td>\n",
       "    </tr>\n",
       "    <tr>\n",
       "      <th>4</th>\n",
       "      <td>آهنگ</td>\n",
       "      <td>apartment-sell</td>\n",
       "      <td>residential-sell</td>\n",
       "      <td>700000000</td>\n",
       "      <td>45.0</td>\n",
       "      <td>1382.0</td>\n",
       "      <td>1.0</td>\n",
       "      <td>5.0</td>\n",
       "      <td>True</td>\n",
       "      <td>False</td>\n",
       "      <td>True</td>\n",
       "    </tr>\n",
       "    <tr>\n",
       "      <th>6</th>\n",
       "      <td>جردن</td>\n",
       "      <td>apartment-sell</td>\n",
       "      <td>residential-sell</td>\n",
       "      <td>14000000000</td>\n",
       "      <td>200.0</td>\n",
       "      <td>1399.0</td>\n",
       "      <td>3.0</td>\n",
       "      <td>5.0</td>\n",
       "      <td>True</td>\n",
       "      <td>True</td>\n",
       "      <td>True</td>\n",
       "    </tr>\n",
       "  </tbody>\n",
       "</table>\n",
       "</div>"
      ],
      "text/plain": [
       "     address    sub_category          category        price   area    year  \\\n",
       "0       پرند  apartment-sell  residential-sell    240000000   84.0  1399.0   \n",
       "1  نازی‌آباد  apartment-sell  residential-sell   1400000000   53.0  1394.0   \n",
       "2  آذربایجان  apartment-sell  residential-sell   1580000000   70.0  1385.0   \n",
       "4       آهنگ  apartment-sell  residential-sell    700000000   45.0  1382.0   \n",
       "6       جردن  apartment-sell  residential-sell  14000000000  200.0  1399.0   \n",
       "\n",
       "   room  floor elevator parking storage  \n",
       "0   2.0    3.0    False    True    True  \n",
       "1   1.0    3.0     True    True    True  \n",
       "2   2.0    1.0     True    True    True  \n",
       "4   1.0    5.0     True   False    True  \n",
       "6   3.0    5.0     True    True    True  "
      ]
     },
     "execution_count": 73,
     "metadata": {},
     "output_type": "execute_result"
    }
   ],
   "source": [
    "sell_aprt['price'] = sell_aprt['price'].apply(lambda x:int(x))\n",
    "sell_aprt.head()"
   ]
  },
  {
   "cell_type": "markdown",
   "metadata": {},
   "source": [
    "We get average rent and price of houses for each areas"
   ]
  },
  {
   "cell_type": "code",
   "execution_count": 74,
   "metadata": {},
   "outputs": [],
   "source": [
    "avg_credit_aprt = rent_aprt.groupby('address')['total_rent'].mean().reset_index().rename(columns={'total_rent':'avg_total_rent'})\n",
    "avg_sell_aprt = sell_aprt.groupby('address')['price'].mean().reset_index().rename(columns={'price':'avg_price'})"
   ]
  },
  {
   "cell_type": "code",
   "execution_count": 75,
   "metadata": {},
   "outputs": [],
   "source": [
    "# merge dataset and use inner join\n",
    "merge_dataset = pd.merge(avg_credit_aprt,avg_sell_aprt,on=['address'],how='inner')"
   ]
  },
  {
   "cell_type": "markdown",
   "metadata": {},
   "source": [
    "To find the best areas for renting house, We calculated the ration rant to sell"
   ]
  },
  {
   "cell_type": "code",
   "execution_count": 76,
   "metadata": {},
   "outputs": [],
   "source": [
    "merge_dataset['ratio_rent_to_sell'] = round(merge_dataset['avg_total_rent'] / merge_dataset['avg_price'],2) * 100"
   ]
  },
  {
   "cell_type": "code",
   "execution_count": 77,
   "metadata": {},
   "outputs": [],
   "source": [
    "merge_dataset.sort_values(by='ratio_rent_to_sell',inplace=True)"
   ]
  },
  {
   "cell_type": "code",
   "execution_count": 78,
   "metadata": {},
   "outputs": [],
   "source": [
    "merge_dataset = merge_dataset.reset_index().drop(columns=['index'])"
   ]
  },
  {
   "cell_type": "code",
   "execution_count": 79,
   "metadata": {},
   "outputs": [],
   "source": [
    "top_20 = merge_dataset.head(20)"
   ]
  },
  {
   "cell_type": "code",
   "execution_count": 82,
   "metadata": {},
   "outputs": [
    {
     "data": {
      "text/html": [
       "<div>\n",
       "<style scoped>\n",
       "    .dataframe tbody tr th:only-of-type {\n",
       "        vertical-align: middle;\n",
       "    }\n",
       "\n",
       "    .dataframe tbody tr th {\n",
       "        vertical-align: top;\n",
       "    }\n",
       "\n",
       "    .dataframe thead th {\n",
       "        text-align: right;\n",
       "    }\n",
       "</style>\n",
       "<table border=\"1\" class=\"dataframe\">\n",
       "  <thead>\n",
       "    <tr style=\"text-align: right;\">\n",
       "      <th></th>\n",
       "      <th>address</th>\n",
       "      <th>avg_total_rent</th>\n",
       "      <th>avg_price</th>\n",
       "      <th>ratio_rent_to_sell</th>\n",
       "    </tr>\n",
       "  </thead>\n",
       "  <tbody>\n",
       "    <tr>\n",
       "      <th>0</th>\n",
       "      <td>سرخه حصار</td>\n",
       "      <td>1.400000e+08</td>\n",
       "      <td>8.500000e+09</td>\n",
       "      <td>2.0</td>\n",
       "    </tr>\n",
       "    <tr>\n",
       "      <th>1</th>\n",
       "      <td>دربند</td>\n",
       "      <td>5.246875e+08</td>\n",
       "      <td>2.255470e+10</td>\n",
       "      <td>2.0</td>\n",
       "    </tr>\n",
       "    <tr>\n",
       "      <th>2</th>\n",
       "      <td>فیروزآبادی</td>\n",
       "      <td>2.125000e+08</td>\n",
       "      <td>6.123620e+09</td>\n",
       "      <td>3.0</td>\n",
       "    </tr>\n",
       "    <tr>\n",
       "      <th>3</th>\n",
       "      <td>شهرک فرهنگیان</td>\n",
       "      <td>7.000000e+07</td>\n",
       "      <td>2.404000e+09</td>\n",
       "      <td>3.0</td>\n",
       "    </tr>\n",
       "    <tr>\n",
       "      <th>4</th>\n",
       "      <td>قیام</td>\n",
       "      <td>1.514286e+08</td>\n",
       "      <td>4.315400e+09</td>\n",
       "      <td>4.0</td>\n",
       "    </tr>\n",
       "    <tr>\n",
       "      <th>5</th>\n",
       "      <td>توحید</td>\n",
       "      <td>2.796216e+08</td>\n",
       "      <td>6.798443e+09</td>\n",
       "      <td>4.0</td>\n",
       "    </tr>\n",
       "    <tr>\n",
       "      <th>6</th>\n",
       "      <td>آرارات</td>\n",
       "      <td>8.160000e+08</td>\n",
       "      <td>2.315067e+10</td>\n",
       "      <td>4.0</td>\n",
       "    </tr>\n",
       "    <tr>\n",
       "      <th>7</th>\n",
       "      <td>شهرک غزالی</td>\n",
       "      <td>1.800000e+08</td>\n",
       "      <td>4.413500e+09</td>\n",
       "      <td>4.0</td>\n",
       "    </tr>\n",
       "    <tr>\n",
       "      <th>8</th>\n",
       "      <td>شهرک دانشگاه تهران</td>\n",
       "      <td>1.068750e+08</td>\n",
       "      <td>2.776891e+09</td>\n",
       "      <td>4.0</td>\n",
       "    </tr>\n",
       "    <tr>\n",
       "      <th>9</th>\n",
       "      <td>شهرک دریا</td>\n",
       "      <td>1.050000e+08</td>\n",
       "      <td>2.267500e+09</td>\n",
       "      <td>5.0</td>\n",
       "    </tr>\n",
       "    <tr>\n",
       "      <th>10</th>\n",
       "      <td>قنات‌کوثر</td>\n",
       "      <td>3.387049e+08</td>\n",
       "      <td>7.042208e+09</td>\n",
       "      <td>5.0</td>\n",
       "    </tr>\n",
       "    <tr>\n",
       "      <th>11</th>\n",
       "      <td>شهرک فردوس</td>\n",
       "      <td>1.434286e+08</td>\n",
       "      <td>2.873744e+09</td>\n",
       "      <td>5.0</td>\n",
       "    </tr>\n",
       "    <tr>\n",
       "      <th>12</th>\n",
       "      <td>چیذر</td>\n",
       "      <td>3.866053e+08</td>\n",
       "      <td>8.034737e+09</td>\n",
       "      <td>5.0</td>\n",
       "    </tr>\n",
       "    <tr>\n",
       "      <th>13</th>\n",
       "      <td>باغ فردوس</td>\n",
       "      <td>9.997059e+08</td>\n",
       "      <td>1.838839e+10</td>\n",
       "      <td>5.0</td>\n",
       "    </tr>\n",
       "    <tr>\n",
       "      <th>14</th>\n",
       "      <td>آرژانتین</td>\n",
       "      <td>4.526786e+08</td>\n",
       "      <td>8.758204e+09</td>\n",
       "      <td>5.0</td>\n",
       "    </tr>\n",
       "    <tr>\n",
       "      <th>15</th>\n",
       "      <td>ده‌ونک</td>\n",
       "      <td>2.965000e+08</td>\n",
       "      <td>5.449333e+09</td>\n",
       "      <td>5.0</td>\n",
       "    </tr>\n",
       "    <tr>\n",
       "      <th>16</th>\n",
       "      <td>سرتخت</td>\n",
       "      <td>7.000000e+07</td>\n",
       "      <td>1.159500e+09</td>\n",
       "      <td>6.0</td>\n",
       "    </tr>\n",
       "    <tr>\n",
       "      <th>17</th>\n",
       "      <td>سپهر</td>\n",
       "      <td>5.641250e+08</td>\n",
       "      <td>9.018077e+09</td>\n",
       "      <td>6.0</td>\n",
       "    </tr>\n",
       "    <tr>\n",
       "      <th>18</th>\n",
       "      <td>قبا</td>\n",
       "      <td>6.389000e+08</td>\n",
       "      <td>1.043909e+10</td>\n",
       "      <td>6.0</td>\n",
       "    </tr>\n",
       "    <tr>\n",
       "      <th>19</th>\n",
       "      <td>اراج</td>\n",
       "      <td>4.345000e+08</td>\n",
       "      <td>6.861500e+09</td>\n",
       "      <td>6.0</td>\n",
       "    </tr>\n",
       "  </tbody>\n",
       "</table>\n",
       "</div>"
      ],
      "text/plain": [
       "               address  avg_total_rent     avg_price  ratio_rent_to_sell\n",
       "0            سرخه حصار    1.400000e+08  8.500000e+09                 2.0\n",
       "1                دربند    5.246875e+08  2.255470e+10                 2.0\n",
       "2           فیروزآبادی    2.125000e+08  6.123620e+09                 3.0\n",
       "3        شهرک فرهنگیان    7.000000e+07  2.404000e+09                 3.0\n",
       "4                 قیام    1.514286e+08  4.315400e+09                 4.0\n",
       "5                توحید    2.796216e+08  6.798443e+09                 4.0\n",
       "6               آرارات    8.160000e+08  2.315067e+10                 4.0\n",
       "7           شهرک غزالی    1.800000e+08  4.413500e+09                 4.0\n",
       "8   شهرک دانشگاه تهران    1.068750e+08  2.776891e+09                 4.0\n",
       "9            شهرک دریا    1.050000e+08  2.267500e+09                 5.0\n",
       "10           قنات‌کوثر    3.387049e+08  7.042208e+09                 5.0\n",
       "11          شهرک فردوس    1.434286e+08  2.873744e+09                 5.0\n",
       "12                چیذر    3.866053e+08  8.034737e+09                 5.0\n",
       "13           باغ فردوس    9.997059e+08  1.838839e+10                 5.0\n",
       "14            آرژانتین    4.526786e+08  8.758204e+09                 5.0\n",
       "15              ده‌ونک    2.965000e+08  5.449333e+09                 5.0\n",
       "16               سرتخت    7.000000e+07  1.159500e+09                 6.0\n",
       "17                سپهر    5.641250e+08  9.018077e+09                 6.0\n",
       "18                 قبا    6.389000e+08  1.043909e+10                 6.0\n",
       "19                اراج    4.345000e+08  6.861500e+09                 6.0"
      ]
     },
     "execution_count": 82,
     "metadata": {},
     "output_type": "execute_result"
    }
   ],
   "source": [
    "top_20"
   ]
  },
  {
   "cell_type": "code",
   "execution_count": 83,
   "metadata": {},
   "outputs": [],
   "source": [
    "address_list = top_20['address'].to_list()\n",
    "persian_labels = [get_display(reshape(label)) for label in address_list]\n",
    "text = get_display(reshape('نسبت اجاره به خرید'))\n"
   ]
  },
  {
   "cell_type": "code",
   "execution_count": 84,
   "metadata": {},
   "outputs": [
    {
     "data": {
      "image/png": "[encoded data removed]",
      "text/plain": [
       "<Figure size 1200x600 with 1 Axes>"
      ]
     },
     "metadata": {},
     "output_type": "display_data"
    }
   ],
   "source": [
    "plt.figure(figsize=(12, 6))\n",
    "sns.light_palette(\"seagreen\")\n",
    "sns.barplot(x=persian_labels, y='ratio_rent_to_sell', data=top_20)\n",
    "plt.title(get_display(reshape('مناطق تهران با کمترین نسبت اجاره به خرید')))\n",
    "plt.xlabel(get_display(reshape('مناطق تهران')))\n",
    "plt.ylabel(text)\n",
    "plt.xticks(rotation=45)\n",
    "plt.gca().spines[['top','right']].set_visible(False)\n",
    "plt.xticks(color='midnightblue',size=11)\n",
    "plt.tight_layout()\n",
    "plt.show()"
   ]
  },
  {
   "cell_type": "markdown",
   "metadata": {},
   "source": [
    "We find the first 20 areas with the best areas for renting house.\n",
    "The less ratio rent to sell, the best areas to rent"
   ]
  },
  {
   "cell_type": "markdown",
   "metadata": {},
   "source": [
    "Now we check the areas with highest ratio rent to sell"
   ]
  },
  {
   "cell_type": "code",
   "execution_count": 85,
   "metadata": {},
   "outputs": [],
   "source": [
    "tail_20 = merge_dataset.tail(20).sort_values(by='ratio_rent_to_sell',ascending=False).reset_index().drop(columns=['index'])"
   ]
  },
  {
   "cell_type": "code",
   "execution_count": 86,
   "metadata": {},
   "outputs": [],
   "source": [
    "address_list = tail_20['address'].to_list()\n",
    "persian_labels = [get_display(reshape(label)) for label in address_list]\n",
    "# text = get_display(reshape('نسبت اجاره به خرید'))\n"
   ]
  },
  {
   "cell_type": "code",
   "execution_count": 87,
   "metadata": {},
   "outputs": [
    {
     "name": "stderr",
     "output_type": "stream",
     "text": [
      "C:\\Users\\armin\\AppData\\Local\\Temp\\ipykernel_2280\\384988181.py:3: FutureWarning: \n",
      "\n",
      "Passing `palette` without assigning `hue` is deprecated and will be removed in v0.14.0. Assign the `x` variable to `hue` and set `legend=False` for the same effect.\n",
      "\n",
      "  sns.barplot(x=persian_labels, y='ratio_rent_to_sell', data=tail_20,palette=pal[::-1])\n"
     ]
    },
    {
     "data": {
      "image/png": "[encoded data removed]",
      "text/plain": [
       "<Figure size 1200x600 with 1 Axes>"
      ]
     },
     "metadata": {},
     "output_type": "display_data"
    }
   ],
   "source": [
    "plt.figure(figsize=(12, 6))\n",
    "pal = sns.color_palette('Reds',len(tail_20))\n",
    "sns.barplot(x=persian_labels, y='ratio_rent_to_sell', data=tail_20,palette=pal[::-1])\n",
    "plt.title(get_display(reshape('مناطق تهران با بیشترین نسبت اجاره به خرید')),color='Maroon')\n",
    "plt.xlabel(get_display(reshape('مناطق تهران')),color='IndianRed')\n",
    "plt.ylabel(text,color='IndianRed')\n",
    "plt.gca().spines[['top','right','left']].set_visible(False)\n",
    "plt.xticks(color='Red',size=11,rotation=45)\n",
    "plt.yticks([])\n",
    "for i in range(len(tail_20)):\n",
    "    plt.text(i,tail_20['ratio_rent_to_sell'][i],round(tail_20['ratio_rent_to_sell'][i],2),ha='center',color='DarkRed')\n",
    "plt.tight_layout()\n",
    "plt.show()"
   ]
  },
  {
   "cell_type": "markdown",
   "metadata": {},
   "source": [
    "It seems there are some outliers in the dataset for \"Gandi\" area, because the ratio is abnormal."
   ]
  }
 ],
 "metadata": {
  "kernelspec": {
   "display_name": "Python 3 (ipykernel)",
   "language": "python",
   "name": "python3"
  },
  "language_info": {
   "codemirror_mode": {
    "name": "ipython",
    "version": 3
   },
   "file_extension": ".py",
   "mimetype": "text/x-python",
   "name": "python",
   "nbconvert_exporter": "python",
   "pygments_lexer": "ipython3",
   "version": "3.11.0"
  }
 },
 "nbformat": 4,
 "nbformat_minor": 2
}
